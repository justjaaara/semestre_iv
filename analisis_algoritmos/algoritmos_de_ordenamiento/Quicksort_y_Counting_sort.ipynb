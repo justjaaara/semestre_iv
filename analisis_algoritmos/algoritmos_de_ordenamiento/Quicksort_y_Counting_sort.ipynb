{
  "nbformat": 4,
  "nbformat_minor": 0,
  "metadata": {
    "colab": {
      "provenance": []
    },
    "kernelspec": {
      "name": "python3",
      "display_name": "Python 3"
    },
    "language_info": {
      "name": "python"
    }
  },
  "cells": [
    {
      "cell_type": "markdown",
      "source": [
        "\n",
        "El algoritmo Quicksort es un algoritmo de ordenamiento eficiente que utiliza la técnica de \"divide y vencerás\". La idea principal es seleccionar un elemento llamado pivote y reorganizar el arreglo de tal manera que todos los elementos menores al pivote se coloquen a su izquierda y todos los mayores a su derecha. Luego, se aplica recursivamente el mismo proceso a las sublistas izquierda y derecha."
      ],
      "metadata": {
        "id": "jvK_sS_dHd38"
      }
    },
    {
      "cell_type": "markdown",
      "source": [
        "Pasos del algoritmo Quicksort:\n",
        "\n",
        "Elección del pivote: Se elige un elemento del arreglo como pivote. Puede ser el primer elemento, el último, uno aleatorio o el elemento central.\n",
        "\n",
        "Partición: Se reorganizan los elementos del arreglo. Todos los elementos menores que el pivote se colocan antes de él, y los mayores después. Esto crea dos subarreglos: uno a la izquierda del pivote (con elementos menores) y otro a la derecha (con elementos mayores).\n",
        "\n",
        "Recursión: El proceso de partición se aplica de manera recursiva a las dos sublistas. El caso base es cuando una sublista tiene uno o ningún elemento, lo que significa que ya está ordenada.\n",
        "\n",
        "Combinación: Dado que cada sublista se ordena de manera independiente, al final, cuando todas las sublistas se han procesado, el arreglo completo queda ordenado."
      ],
      "metadata": {
        "id": "KaEIIkTGHjRj"
      }
    },
    {
      "cell_type": "markdown",
      "source": [
        "Complejidad:\n",
        "Mejor caso:\n",
        "𝑂\n",
        "(\n",
        "𝑛\n",
        "log\n",
        "⁡\n",
        "𝑛\n",
        ")\n",
        ", cuando el pivote divide el arreglo de manera equilibrada en cada paso.\n",
        "Peor caso:\n",
        "𝑂\n",
        "(\n",
        "𝑛\n",
        "2\n",
        ")\n",
        ", ocurre cuando el pivote elegido es el mayor o menor elemento, lo que genera particiones muy desiguales.\n",
        "Caso promedio:\n",
        "𝑂\n",
        "(\n",
        "𝑛\n",
        "log\n",
        "⁡\n",
        "𝑛\n",
        ")\n",
        ", para un pivote aleatorio o bien elegido."
      ],
      "metadata": {
        "id": "jSKQ-mx8Hn0t"
      }
    },
    {
      "cell_type": "markdown",
      "source": [
        "Características:\n",
        "\n",
        "In-place: Aunque existen implementaciones que no usan memoria extra (in-place), el ejemplo anterior utiliza listas adicionales.\n",
        "\n",
        "No estable: No preserva el orden relativo de los elementos iguales."
      ],
      "metadata": {
        "id": "M2fUGpWwHvUK"
      }
    },
    {
      "cell_type": "code",
      "execution_count": null,
      "metadata": {
        "colab": {
          "base_uri": "https://localhost:8080/"
        },
        "id": "P1yX6Z4zHX-g",
        "outputId": "97497b6c-2b71-4424-a796-0bff87197573"
      },
      "outputs": [
        {
          "output_type": "stream",
          "name": "stdout",
          "text": [
            "Arreglo ordenado: [1, 5, 7, 8, 9, 10]\n"
          ]
        }
      ],
      "source": [
        "def quicksort(arr, low, high):\n",
        "    if low < high:\n",
        "        # Encuentra el índice de partición\n",
        "        pi = particion(arr, low, high)\n",
        "\n",
        "        # Ordena recursivamente los subarreglos\n",
        "        quicksort(arr, low, pi - 1)  # Subarreglo izquierdo\n",
        "        quicksort(arr, pi + 1, high) # Subarreglo derecho\n",
        "\n",
        "def particion(arr, low, high):\n",
        "    # Tomamos el último elemento como pivote\n",
        "    pivote = arr[high]\n",
        "    i = low - 1  # Índice del elemento más pequeño\n",
        "\n",
        "    for j in range(low, high):\n",
        "        # Si el elemento actual es menor o igual al pivote\n",
        "        if arr[j] <= pivote:\n",
        "            i += 1\n",
        "            # Intercambiamos los elementos\n",
        "            arr[i], arr[j] = arr[j], arr[i]\n",
        "\n",
        "    # Colocamos el pivote en la posición correcta\n",
        "    arr[i + 1], arr[high] = arr[high], arr[i + 1]\n",
        "    return i + 1\n",
        "\n",
        "# Ejemplo de uso:\n",
        "arr = [10, 7, 8, 9, 1, 5]\n",
        "n = len(arr)\n",
        "quicksort(arr, 0, n - 1)\n",
        "print(\"Arreglo ordenado:\", arr)\n"
      ]
    },
    {
      "cell_type": "markdown",
      "source": [
        "### Counting sort\n",
        "\n",
        "Counting Sort es un algoritmo de ordenamiento que es eficiente cuando se tienen números enteros dentro de un rango conocido y limitado. Es un algoritmo de tipo no comparativo, lo que significa que no realiza comparaciones entre los elementos, a diferencia de algoritmos como Quicksort o Merge Sort. En cambio, cuenta el número de ocurrencias de cada valor en el rango y utiliza esta información para ordenar los elementos."
      ],
      "metadata": {
        "id": "8NWrxunRH7Is"
      }
    },
    {
      "cell_type": "markdown",
      "source": [
        "Idea principal\n",
        "\n",
        "Counting Sort funciona contando cuántas veces aparece cada elemento en el arreglo de entrada. Luego, utiliza esa información para determinar la posición correcta de cada elemento en el arreglo de salida.\n",
        "\n",
        "Pasos del algoritmo\n",
        "\n",
        "Encontrar el rango de valores: Se determina el valor mínimo y máximo en el arreglo de entrada. Esto define el tamaño del arreglo de conteo.\n",
        "\n",
        "Crear un arreglo de conteo: Este arreglo tendrá una posición para cada valor en el rango de entrada y almacenará cuántas veces aparece cada valor en el arreglo original.\n",
        "\n",
        "Acumular los conteos: Modificamos el arreglo de conteo acumulando los valores, es decir, sumando cada valor con el valor anterior. Esto nos ayudará a determinar la posición final de cada elemento en el arreglo de salida.\n",
        "\n",
        "Construir el arreglo ordenado: Recorremos el arreglo original en orden inverso para asegurar la estabilidad del algoritmo (los elementos iguales mantienen su orden relativo) y colocamos cada elemento en su posición correcta usando el arreglo de conteo."
      ],
      "metadata": {
        "id": "aEUrga5PICaX"
      }
    },
    {
      "cell_type": "markdown",
      "source": [
        "Ejemplo con un arreglo:\n",
        "\n",
        "Supongamos que queremos ordenar el siguiente arreglo:"
      ],
      "metadata": {
        "id": "-zhH6ylJIN63"
      }
    },
    {
      "cell_type": "code",
      "source": [
        "arr = [4, 2, 2, 8, 3, 3, 1]\n"
      ],
      "metadata": {
        "id": "ZeMHwqXuHyyX"
      },
      "execution_count": null,
      "outputs": []
    },
    {
      "cell_type": "markdown",
      "source": [
        "Paso a paso del algoritmo:\n",
        "\n",
        "Arreglo original: [4, 2, 2, 8, 3, 3, 1]\n",
        "\n",
        "Determinar el rango: El valor mínimo es 1 y el valor máximo es 8, por lo que necesitamos un arreglo de conteo de tamaño 8 (índices de 1 a 8).\n",
        "\n",
        "Inicializar el arreglo de conteo: Inicializamos un arreglo de conteo con ceros:"
      ],
      "metadata": {
        "id": "7CKT1iGWIS0r"
      }
    },
    {
      "cell_type": "code",
      "source": [
        "conteo = [0, 0, 0, 0, 0, 0, 0, 0, 0]  # Tamaño 9, desde índice 0 hasta 8\n"
      ],
      "metadata": {
        "id": "8mvzu1W7IQmn"
      },
      "execution_count": null,
      "outputs": []
    },
    {
      "cell_type": "markdown",
      "source": [
        "Contar las ocurrencias: Recorremos el arreglo original y contamos cuántas veces aparece cada número:"
      ],
      "metadata": {
        "id": "0qWlOH0FIYHR"
      }
    },
    {
      "cell_type": "code",
      "source": [
        "[4, 2, 2, 8, 3, 3, 1]\n"
      ],
      "metadata": {
        "colab": {
          "base_uri": "https://localhost:8080/"
        },
        "id": "D2cy7pyiIVwe",
        "outputId": "c4189cfc-5306-443c-99ca-7e19e8e166d4"
      },
      "execution_count": null,
      "outputs": [
        {
          "output_type": "execute_result",
          "data": {
            "text/plain": [
              "[4, 2, 2, 8, 3, 3, 1]"
            ]
          },
          "metadata": {},
          "execution_count": 4
        }
      ]
    },
    {
      "cell_type": "markdown",
      "source": [
        "Después del conteo:"
      ],
      "metadata": {
        "id": "RKVqhQcqIlwf"
      }
    },
    {
      "cell_type": "code",
      "source": [
        "conteo = [0, 1, 2, 2, 1, 0, 0, 1, 1]  # Índice 1 tiene 1, índice 2 tiene 2, etc.\n"
      ],
      "metadata": {
        "id": "zRSTDJ6nIaGp"
      },
      "execution_count": null,
      "outputs": []
    },
    {
      "cell_type": "markdown",
      "source": [
        "Acumulación de conteos: Ahora acumulamos los valores para determinar las posiciones:"
      ],
      "metadata": {
        "id": "MvWvTWSXIoEc"
      }
    },
    {
      "cell_type": "code",
      "source": [
        "conteo = [0, 1, 3, 5, 6, 6, 6, 7, 8]\n"
      ],
      "metadata": {
        "id": "Z-gIcghHIcB3"
      },
      "execution_count": null,
      "outputs": []
    },
    {
      "cell_type": "markdown",
      "source": [
        "Este arreglo acumulado indica, por ejemplo, que el número 1 se coloca en la posición 1, los números 2 se colocan en las posiciones 2 y 3, y así sucesivamente.\n",
        "\n",
        "Construir el arreglo ordenado: Utilizamos el arreglo acumulado para colocar los elementos en su posición correcta. Recorreremos el arreglo original en orden inverso para mantener la estabilidad:"
      ],
      "metadata": {
        "id": "sO6jH-TxIrui"
      }
    },
    {
      "cell_type": "code",
      "source": [
        "salida = [0, 0, 0, 0, 0, 0, 0]\n"
      ],
      "metadata": {
        "id": "tOElrEOCIpwl"
      },
      "execution_count": null,
      "outputs": []
    },
    {
      "cell_type": "markdown",
      "source": [
        "Insertamos los elementos usando el arreglo de conteo acumulado:\n",
        "\n",
        "El 1 se coloca en la posición 1 (salida[0] = 1).\n",
        "\n",
        "Los 2 se colocan en las posiciones 2 y 3.\n",
        "\n",
        "Los 3 se colocan en las posiciones 4 y 5.\n",
        "\n",
        "El 4 se coloca en la posición 6.\n",
        "\n",
        "El 8 se coloca en la posición 8.\n",
        "\n",
        "El arreglo ordenado final es:"
      ],
      "metadata": {
        "id": "1Vj-k_2KIyh-"
      }
    },
    {
      "cell_type": "code",
      "source": [
        "salida = [1, 2, 2, 3, 3, 4, 8]\n"
      ],
      "metadata": {
        "id": "J1L8voyDIwUA"
      },
      "execution_count": null,
      "outputs": []
    },
    {
      "cell_type": "markdown",
      "source": [
        "Complejidad:\n",
        "Tiempo:\n",
        "Mejor caso:\n",
        "𝑂\n",
        "(\n",
        "𝑛\n",
        "+\n",
        "𝑘\n",
        ")\n",
        "\n",
        "Peor caso:\n",
        "𝑂\n",
        "(\n",
        "𝑛\n",
        "+\n",
        "𝑘\n",
        ")\n",
        ", donde\n",
        "𝑛\n",
        "n es el número de elementos y\n",
        "𝑘\n",
        "k es el rango de los valores en el arreglo.\n",
        "Espacio:\n",
        "Requiere espacio adicional para el arreglo de conteo y el arreglo de salida, lo que lleva a un uso de espacio de\n",
        "𝑂\n",
        "(\n",
        "𝑛\n",
        "+\n",
        "𝑘\n",
        ")\n",
        "."
      ],
      "metadata": {
        "id": "lvQ8fNlZI7dG"
      }
    },
    {
      "cell_type": "code",
      "source": [
        "def counting_sort(arr):\n",
        "    # Encuentra el valor máximo en el arreglo\n",
        "    max_val = max(arr)\n",
        "    min_val = min(arr)\n",
        "\n",
        "    # Rango de los números en el arreglo\n",
        "    rango = max_val - min_val + 1\n",
        "\n",
        "    # Inicializa el arreglo de conteo\n",
        "    conteo = [0] * rango\n",
        "\n",
        "    # Cuenta la ocurrencia de cada elemento\n",
        "    for num in arr:\n",
        "        conteo[num - min_val] += 1\n",
        "\n",
        "    # Modifica el arreglo de conteo para almacenar posiciones acumuladas\n",
        "    for i in range(1, rango):\n",
        "        conteo[i] += conteo[i - 1]\n",
        "\n",
        "    # Crea el arreglo de salida\n",
        "    salida = [0] * len(arr)\n",
        "\n",
        "    # Coloca los elementos en la posición correcta (recorrido inverso para estabilidad)\n",
        "    for num in reversed(arr):\n",
        "        salida[conteo[num - min_val] - 1] = num\n",
        "        conteo[num - min_val] -= 1\n",
        "\n",
        "    # Copia los elementos ordenados al arreglo original\n",
        "    for i in range(len(arr)):\n",
        "        arr[i] = salida[i]\n",
        "\n",
        "# Ejemplo de uso:\n",
        "arr = [4, 2, 2, 8, 3, 3, 1]\n",
        "counting_sort(arr)\n",
        "print(\"Arreglo ordenado:\", arr)\n"
      ],
      "metadata": {
        "colab": {
          "base_uri": "https://localhost:8080/"
        },
        "id": "PatgRVNNI24q",
        "outputId": "3c2040d7-7299-4aea-8a10-ee166fc45b29"
      },
      "execution_count": null,
      "outputs": [
        {
          "output_type": "stream",
          "name": "stdout",
          "text": [
            "Arreglo ordenado: [1, 2, 2, 3, 3, 4, 8]\n"
          ]
        }
      ]
    },
    {
      "cell_type": "markdown",
      "source": [
        "Ventajas y desventajas:\n",
        "\n",
        "Ventajas:\n",
        "\n",
        "Muy eficiente para grandes cantidades de datos con un rango pequeño de valores.\n",
        "No realiza comparaciones, lo que puede ser ventajoso en ciertos casos.\n",
        "Estable, lo que significa que preserva el orden relativo de los elementos con el mismo valor.\n",
        "\n",
        "Desventajas:\n",
        "\n",
        "No es eficiente cuando el rango de valores (\n",
        "𝑘\n",
        ") es mucho mayor que el número de elementos (\n",
        "𝑛\n",
        ").\n",
        "Solo funciona con números enteros o datos que se puedan mapear a enteros."
      ],
      "metadata": {
        "id": "yXuQqNueJGDQ"
      }
    },
    {
      "cell_type": "markdown",
      "source": [
        "####EJERCICIOS"
      ],
      "metadata": {
        "id": "ifXdzTmdn3xy"
      }
    },
    {
      "cell_type": "markdown",
      "source": [
        "Un equipo de investigadores ha recolectado las edades de todas las personas en una pequeña ciudad para realizar un análisis demográfico. El rango de las edades es entre 0 y 120 años. El equipo quiere que ordenes estas edades de manera eficiente usando el algoritmo Counting Sort.\n",
        "\n",
        "Dado un arreglo de enteros que representa las edades de los ciudadanos, implementa un programa que los ordene utilizando Counting Sort.\n",
        "\n",
        "Además, debes manejar un caso donde algunas personas no quisieron revelar su edad, representado por un valor especial -1. Este valor no debe aparecer en el arreglo ordenado."
      ],
      "metadata": {
        "id": "DECwEp-1n5kY"
      }
    },
    {
      "cell_type": "markdown",
      "source": [
        "Reto: Ordenación de Registros de Ventas\n",
        "\n",
        "Descripción del problema:\n",
        "\n",
        "Imagina que trabajas en una empresa de comercio electrónico que necesita procesar y analizar registros de ventas. Cada registro de venta tiene un identificador único y una cantidad de productos vendidos. Tu tarea es ordenar estos registros de ventas según la cantidad de productos vendidos en orden descendente para identificar los productos más populares."
      ],
      "metadata": {
        "id": "2WVNnuutogZX"
      }
    },
    {
      "cell_type": "markdown",
      "source": [
        "Datos de entrada:\n",
        "\n",
        "Tienes un arreglo de tuplas, donde cada tupla representa un registro de venta con dos valores:\n",
        "\n",
        "Un identificador único de la venta (número entero).\n",
        "La cantidad de productos vendidos en esa venta (número entero)."
      ],
      "metadata": {
        "id": "1l-CtuR2ojos"
      }
    },
    {
      "cell_type": "code",
      "source": [
        "ventas = [\n",
        "    (102, 150),\n",
        "    (203, 200),\n",
        "    (301, 50),\n",
        "    (405, 300),\n",
        "    (512, 100)\n",
        "]\n"
      ],
      "metadata": {
        "id": "3-smYAuVI5QD"
      },
      "execution_count": 1,
      "outputs": []
    },
    {
      "cell_type": "markdown",
      "source": [
        "Objetivo:\n",
        "\n",
        "Usa el algoritmo Quicksort para ordenar los registros de ventas de acuerdo con la cantidad de productos vendidos en orden descendente."
      ],
      "metadata": {
        "id": "Tfy8HQgUooig"
      }
    },
    {
      "cell_type": "code",
      "source": [],
      "metadata": {
        "id": "y3f8QpQFolzA"
      },
      "execution_count": null,
      "outputs": []
    }
  ]
}