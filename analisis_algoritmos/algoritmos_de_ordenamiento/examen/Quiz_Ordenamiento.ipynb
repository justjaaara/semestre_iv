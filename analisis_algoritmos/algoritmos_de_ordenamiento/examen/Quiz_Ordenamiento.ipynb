{
  "cells": [
    {
      "cell_type": "markdown",
      "metadata": {
        "id": "uSRJyRYh8ZAJ"
      },
      "source": [
        "Examen: Algoritmos de Ordenamiento\n",
        "\n",
        "Instrucciones:\n",
        "Lee cuidadosamente cada uno de los siguientes escenarios. En cada caso, debes:\n",
        "\n",
        "Elegir el algoritmo de ordenamiento más adecuado.\n",
        "Justificar tu elección explicando el contexto, la eficiencia en tiempo (Big O), y si el algoritmo es apropiado para los datos dados.\n",
        "Implementar el código del algoritmo elegido para ordenar los datos proporcionados."
      ]
    },
    {
      "cell_type": "markdown",
      "metadata": {
        "id": "rXkHrr2U8ggW"
      },
      "source": [
        "###Punto 1: Ordenando productos en una tienda en línea\n",
        "Tu empresa administra una tienda en línea que ofrece una amplia variedad de productos. Cada vez que un usuario realiza una búsqueda o consulta una categoría de productos, estos se deben mostrar ordenados por precio de menor a mayor. Actualmente, la tienda tiene miles de productos en su catálogo, y estos se actualizan frecuentemente con nuevos productos y cambios de precios. El objetivo es que los productos siempre estén ordenados para mejorar la experiencia del usuario y la eficiencia de las búsquedas. Sin embargo, dado el tamaño del catálogo y la frecuencia de actualizaciones, se requiere que el proceso de ordenación sea eficiente tanto en tiempo como en recursos.\n",
        "\n",
        "Lista de precios de productos: [200, 150, 300, 50, 100, 250, 400]\n",
        "\n",
        "Pregunta: ¿Qué algoritmo de ordenamiento usarías para organizar los precios de los productos cada vez que se realice una consulta? Justifica tu elección considerando la eficiencia del algoritmo y el tamaño de los datos. Luego, implementa el código del algoritmo."
      ]
    },
    {
      "cell_type": "markdown",
      "metadata": {
        "id": "Rlus4iMd8nnS"
      },
      "source": [
        "###Punto 2: Clasificación de estudiantes por calificaciones\n",
        "Eres responsable de administrar el sistema de calificaciones de una institución educativa. Se necesita una solución eficiente para clasificar las calificaciones de los estudiantes, las cuales van de 0 a 100. Estas calificaciones son utilizadas por el sistema para generar rankings y estadísticas. El número de estudiantes es considerable, alcanzando alrededor de 1000, y el sistema debe actualizarse regularmente. Además, como las calificaciones son siempre enteros y están en un rango fijo, podrías aprovechar esta característica para optimizar el proceso de ordenamiento.\n",
        "\n",
        "Lista de calificaciones de los estudiantes: [55, 70, 90, 100, 80, 75, 85, 95]\n",
        "\n",
        "Pregunta: ¿Qué algoritmo de ordenamiento utilizarías para clasificar las calificaciones de los estudiantes? Justifica tu elección, explicando cómo el rango limitado de valores influye en la elección del algoritmo. Luego, implementa el código del algoritmo."
      ]
    },
    {
      "cell_type": "markdown",
      "metadata": {
        "id": "_4UIb0sX80NU"
      },
      "source": [
        "###Punto 3: Organizando registros de inventario en una cadena de supermercados\n",
        "Trabajas para una cadena de supermercados que tiene tiendas en varias ubicaciones. Cada tienda gestiona un inventario de productos que incluye información como nombre, cantidad en stock y código de barras. Para optimizar la logística y mejorar la gestión de los inventarios, se te ha pedido que organices los productos por código de barras, que son números grandes. Sin embargo, dado que la cadena gestiona cientos de tiendas y cada una tiene miles de productos, el sistema de inventario tiene limitaciones de memoria. Por lo tanto, es necesario usar un algoritmo que no solo sea eficiente en tiempo, sino también en el uso de espacio adicional. El inventario puede actualizarse con frecuencia, por lo que también debe ser capaz de manejar datos dinámicos.\n",
        "\n",
        "Lista de códigos de barras de productos: [83929, 28391, 10239, 56320, 72839, 19203, 90213]\n",
        "\n",
        "Pregunta: ¿Qué algoritmo de ordenamiento usarías para organizar los productos por su código de barras? Justifica tu elección considerando las limitaciones de espacio y la eficiencia. Luego, implementa el código del algoritmo."
      ]
    },
    {
      "cell_type": "code",
      "execution_count": 1,
      "metadata": {
        "id": "pCqMatE06EzM"
      },
      "outputs": [],
      "source": [
        "def bubble_sort(arr):\n",
        "    n = len(arr)\n",
        "    for i in range(n):\n",
        "        # Últimos i elementos ya están ordenados\n",
        "        for j in range(0, n-i-1):\n",
        "            # Intercambia si el elemento encontrado es mayor que el siguiente\n",
        "            if arr[j] > arr[j+1]:\n",
        "                arr[j], arr[j+1] = arr[j+1], arr[j]\n",
        "    return arr\n"
      ]
    },
    {
      "cell_type": "code",
      "execution_count": 2,
      "metadata": {
        "id": "JYh9GoxV8805"
      },
      "outputs": [],
      "source": [
        "def insertion_sort(arr):\n",
        "    # Recorre desde el segundo elemento hasta el final\n",
        "    for i in range(1, len(arr)):\n",
        "        key = arr[i]\n",
        "        j = i - 1\n",
        "        # Mueve los elementos de arr[0..i-1], que son mayores que key, a una posición adelante\n",
        "        while j >= 0 and key < arr[j]:\n",
        "            arr[j + 1] = arr[j]\n",
        "            j -= 1\n",
        "        arr[j + 1] = key\n",
        "    return arr"
      ]
    },
    {
      "cell_type": "code",
      "execution_count": 3,
      "metadata": {
        "colab": {
          "base_uri": "https://localhost:8080/"
        },
        "id": "H0TSQwun9Hfs",
        "outputId": "81d2f236-fb27-44e6-bf65-c2e6cbf11eb2"
      },
      "outputs": [
        {
          "name": "stdout",
          "output_type": "stream",
          "text": [
            "Array ordenado: [10239, 19203, 28391, 56320, 72839, 83929, 90213]\n"
          ]
        }
      ],
      "source": [
        "def heapify(arr, n, i):\n",
        "    largest = i  # Inicializa el nodo más grande como la raíz\n",
        "    left = 2 * i + 1  # Hijo izquierdo\n",
        "    right = 2 * i + 2  # Hijo derecho\n",
        "\n",
        "    # Si el hijo izquierdo es mayor que la raíz\n",
        "    if left < n and arr[left] > arr[largest]:\n",
        "        largest = left\n",
        "\n",
        "    # Si el hijo derecho es mayor que el nodo más grande hasta ahora\n",
        "    if right < n and arr[right] > arr[largest]:\n",
        "        largest = right\n",
        "\n",
        "    # Si el nodo más grande no es la raíz\n",
        "    if largest != i:\n",
        "        arr[i], arr[largest] = arr[largest], arr[i]  # Intercambia\n",
        "\n",
        "        # Aplica heapify recursivamente al subárbol afectado\n",
        "        heapify(arr, n, largest)\n",
        "\n",
        "def heapsort(arr):\n",
        "    n = len(arr)\n",
        "\n",
        "    # Construir el heap (reorganizar la lista)\n",
        "    for i in range(n // 2 - 1, -1, -1):\n",
        "        heapify(arr, n, i)\n",
        "\n",
        "    # Extraer los elementos del heap uno por uno\n",
        "    for i in range(n-1, 0, -1):\n",
        "        arr[i], arr[0] = arr[0], arr[i]  # Mueve la raíz actual al final\n",
        "        heapify(arr, i, 0)  # Llama a heapify en el heap reducido\n",
        "\n",
        "    return arr\n",
        "\n",
        "# Ejemplo de uso:\n",
        "arr = [83929, 28391, 10239, 56320, 72839, 19203, 90213]\n",
        "sorted_arr = heapsort(arr)\n",
        "print(\"Array ordenado:\", sorted_arr)\n"
      ]
    },
    {
      "cell_type": "code",
      "execution_count": 4,
      "metadata": {
        "colab": {
          "base_uri": "https://localhost:8080/"
        },
        "id": "v5jml7bp9aWN",
        "outputId": "8e949ce3-0bba-41a0-b8a0-8a0fa1c61b93"
      },
      "outputs": [
        {
          "name": "stdout",
          "output_type": "stream",
          "text": [
            "Array ordenado: [5, 6, 7, 11, 12, 13]\n"
          ]
        }
      ],
      "source": [
        "def merge(arr, left, middle, right):\n",
        "    # Tamaño de las sublistas\n",
        "    n1 = middle - left + 1\n",
        "    n2 = right - middle\n",
        "\n",
        "    # Crear listas temporales\n",
        "    L = arr[left:middle + 1]\n",
        "    R = arr[middle + 1:right + 1]\n",
        "\n",
        "    # Índices iniciales de las sublistas y de la lista principal\n",
        "    i = j = 0\n",
        "    k = left\n",
        "\n",
        "    # Combinar las sublistas en orden ascendente\n",
        "    while i < n1 and j < n2:\n",
        "        if L[i] <= R[j]:\n",
        "            arr[k] = L[i]\n",
        "            i += 1\n",
        "        else:\n",
        "            arr[k] = R[j]\n",
        "            j += 1\n",
        "        k += 1\n",
        "\n",
        "    # Copiar los elementos restantes de L[] si quedan\n",
        "    while i < n1:\n",
        "        arr[k] = L[i]\n",
        "        i += 1\n",
        "        k += 1\n",
        "\n",
        "    # Copiar los elementos restantes de R[] si quedan\n",
        "    while j < n2:\n",
        "        arr[k] = R[j]\n",
        "        j += 1\n",
        "        k += 1\n",
        "\n",
        "def mergesort(arr, left, right):\n",
        "    if left < right:\n",
        "        # Encontrar el punto medio de la lista\n",
        "        middle = (left + right) // 2\n",
        "\n",
        "        # Ordenar la primera y la segunda mitad\n",
        "        mergesort(arr, left, middle)\n",
        "        mergesort(arr, middle + 1, right)\n",
        "\n",
        "        # Combinar las dos mitades ordenadas\n",
        "        merge(arr, left, middle, right)\n",
        "\n",
        "# Ejemplo de uso\n",
        "arr = [12, 11, 13, 5, 6, 7]\n",
        "mergesort(arr, 0, len(arr) - 1)\n",
        "print(\"Array ordenado:\", arr)\n"
      ]
    },
    {
      "cell_type": "code",
      "execution_count": 5,
      "metadata": {
        "colab": {
          "base_uri": "https://localhost:8080/"
        },
        "id": "8bjkE4jq9hyd",
        "outputId": "6e8d0f36-47ad-4fec-cfa7-81e819bcdc42"
      },
      "outputs": [
        {
          "name": "stdout",
          "output_type": "stream",
          "text": [
            "Arreglo ordenado: [1, 5, 7, 8, 9, 10]\n"
          ]
        }
      ],
      "source": [
        "def quicksort(arr, low, high):\n",
        "    if low < high:\n",
        "        # Encuentra el índice de partición\n",
        "        pi = particion(arr, low, high)\n",
        "\n",
        "        # Ordena recursivamente los subarreglos\n",
        "        quicksort(arr, low, pi - 1)  # Subarreglo izquierdo\n",
        "        quicksort(arr, pi + 1, high) # Subarreglo derecho\n",
        "\n",
        "def particion(arr, low, high):\n",
        "    # Tomamos el último elemento como pivote\n",
        "    pivote = arr[high]\n",
        "    i = low - 1  # Índice del elemento más pequeño\n",
        "\n",
        "    for j in range(low, high):\n",
        "        # Si el elemento actual es menor o igual al pivote\n",
        "        if arr[j] <= pivote:\n",
        "            i += 1\n",
        "            # Intercambiamos los elementos\n",
        "            arr[i], arr[j] = arr[j], arr[i]\n",
        "\n",
        "    # Colocamos el pivote en la posición correcta\n",
        "    arr[i + 1], arr[high] = arr[high], arr[i + 1]\n",
        "    return i + 1\n",
        "\n",
        "# Ejemplo de uso:\n",
        "arr = [10, 7, 8, 9, 1, 5]\n",
        "n = len(arr)\n",
        "quicksort(arr, 0, n - 1)\n",
        "print(\"Arreglo ordenado:\", arr)\n"
      ]
    },
    {
      "cell_type": "code",
      "execution_count": 6,
      "metadata": {
        "colab": {
          "base_uri": "https://localhost:8080/"
        },
        "id": "GScyjMjd9j30",
        "outputId": "285f632e-a9e9-4a9a-aab7-b396d9b68a30"
      },
      "outputs": [
        {
          "name": "stdout",
          "output_type": "stream",
          "text": [
            "Arreglo ordenado: [1, 2, 2, 3, 3, 4, 8]\n"
          ]
        }
      ],
      "source": [
        "def counting_sort(arr):\n",
        "    # Encuentra el valor máximo en el arreglo\n",
        "    max_val = max(arr)\n",
        "    min_val = min(arr)\n",
        "\n",
        "    # Rango de los números en el arreglo\n",
        "    rango = max_val - min_val + 1\n",
        "\n",
        "    # Inicializa el arreglo de conteo\n",
        "    conteo = [0] * rango\n",
        "\n",
        "    # Cuenta la ocurrencia de cada elemento\n",
        "    for num in arr:\n",
        "        conteo[num - min_val] += 1\n",
        "\n",
        "    # Modifica el arreglo de conteo para almacenar posiciones acumuladas\n",
        "    for i in range(1, rango):\n",
        "        conteo[i] += conteo[i - 1]\n",
        "\n",
        "    # Crea el arreglo de salida\n",
        "    salida = [0] * len(arr)\n",
        "\n",
        "    # Coloca los elementos en la posición correcta (recorrido inverso para estabilidad)\n",
        "    for num in reversed(arr):\n",
        "        salida[conteo[num - min_val] - 1] = num\n",
        "        conteo[num - min_val] -= 1\n",
        "\n",
        "    # Copia los elementos ordenados al arreglo original\n",
        "    for i in range(len(arr)):\n",
        "        arr[i] = salida[i]\n",
        "\n",
        "# Ejemplo de uso:\n",
        "arr = [4, 2, 2, 8, 3, 3, 1]\n",
        "counting_sort(arr)\n",
        "print(\"Arreglo ordenado:\", arr)\n"
      ]
    },
    {
      "cell_type": "code",
      "execution_count": 7,
      "metadata": {
        "colab": {
          "base_uri": "https://localhost:8080/"
        },
        "id": "wbsXlthI9mJc",
        "outputId": "d4024574-8368-4655-d7e9-e4393bd8c638"
      },
      "outputs": [
        {
          "name": "stdout",
          "output_type": "stream",
          "text": [
            "[0.32, 0.33, 0.37, 0.42, 0.47, 0.51, 0.52]\n"
          ]
        }
      ],
      "source": [
        "def bucket_sort(arr):\n",
        "    n = len(arr)\n",
        "    buckets = [[] for _ in range(n)]\n",
        "\n",
        "    # Distribuir los elementos en los cubos\n",
        "    for element in arr:\n",
        "        index = int(n * element)  # Calcular el índice del cubo\n",
        "        buckets[index].append(element)\n",
        "\n",
        "    # Ordenar cada cubo\n",
        "    for bucket in buckets:\n",
        "        bucket.sort()\n",
        "\n",
        "    # Concatenar todos los cubos en el arreglo original\n",
        "    sorted_arr = []\n",
        "    for bucket in buckets:\n",
        "        sorted_arr.extend(bucket)\n",
        "\n",
        "    return sorted_arr\n",
        "\n",
        "# Ejemplo de uso\n",
        "arr = [0.42, 0.32, 0.33, 0.52, 0.37, 0.47, 0.51]\n",
        "sorted_arr = bucket_sort(arr)\n",
        "print(sorted_arr)\n"
      ]
    },
    {
      "cell_type": "code",
      "execution_count": 8,
      "metadata": {
        "colab": {
          "base_uri": "https://localhost:8080/"
        },
        "id": "rpKX8vsG9n63",
        "outputId": "23305e6a-2206-4473-c199-9d144f0d826f"
      },
      "outputs": [
        {
          "name": "stdout",
          "output_type": "stream",
          "text": [
            "[2, 24, 45, 66, 75, 90, 170, 802]\n"
          ]
        }
      ],
      "source": [
        "def counting_sort(arr, exp):\n",
        "    n = len(arr)\n",
        "    output = [0] * n\n",
        "    count = [0] * 10\n",
        "\n",
        "    # Contar ocurrencias del dígito en la posición exp\n",
        "    for i in range(n):\n",
        "        index = (arr[i] // exp) % 10\n",
        "        count[index] += 1\n",
        "\n",
        "    # Actualizar el array count para que contenga las posiciones finales de los dígitos\n",
        "    for i in range(1, 10):\n",
        "        count[i] += count[i - 1]\n",
        "\n",
        "    # Construir el array output usando count para colocar los elementos en su lugar correcto\n",
        "    i = n - 1\n",
        "    while i >= 0:\n",
        "        index = (arr[i] // exp) % 10\n",
        "        output[count[index] - 1] = arr[i]\n",
        "        count[index] -= 1\n",
        "        i -= 1\n",
        "\n",
        "    # Copiar el contenido de output en arr para que arr contenga los números ordenados según el dígito actual\n",
        "    for i in range(n):\n",
        "        arr[i] = output[i]\n",
        "\n",
        "def radix_sort(arr):\n",
        "    # Encontrar el número máximo para conocer el número de dígitos\n",
        "    max_element = max(arr)\n",
        "\n",
        "    # Aplicar counting sort para cada dígito. exp es 10^i donde i es el dígito actual.\n",
        "    exp = 1\n",
        "    while max_element // exp > 0:\n",
        "        counting_sort(arr, exp)\n",
        "        exp *= 10\n",
        "\n",
        "# Ejemplo de uso\n",
        "arr = [170, 45, 75, 90, 802, 24, 2, 66]\n",
        "radix_sort(arr)\n",
        "print(arr)\n"
      ]
    },
    {
      "cell_type": "code",
      "execution_count": null,
      "metadata": {
        "id": "CPLn-In89piZ"
      },
      "outputs": [],
      "source": []
    }
  ],
  "metadata": {
    "colab": {
      "provenance": []
    },
    "kernelspec": {
      "display_name": "Python 3",
      "name": "python3"
    },
    "language_info": {
      "name": "python"
    }
  },
  "nbformat": 4,
  "nbformat_minor": 0
}
