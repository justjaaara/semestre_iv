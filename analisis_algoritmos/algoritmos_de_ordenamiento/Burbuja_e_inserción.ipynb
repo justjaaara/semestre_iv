{
  "nbformat": 4,
  "nbformat_minor": 0,
  "metadata": {
    "colab": {
      "provenance": []
    },
    "kernelspec": {
      "name": "python3",
      "display_name": "Python 3"
    },
    "language_info": {
      "name": "python"
    }
  },
  "cells": [
    {
      "cell_type": "code",
      "execution_count": null,
      "metadata": {
        "id": "PNgjTluyARJr"
      },
      "outputs": [],
      "source": [
        "def bubble_sort(arr):\n",
        "    n = len(arr)\n",
        "    for i in range(n):\n",
        "        # Últimos i elementos ya están ordenados\n",
        "        for j in range(0, n-i-1):\n",
        "            # Intercambia si el elemento encontrado es mayor que el siguiente\n",
        "            if arr[j] > arr[j+1]:\n",
        "                arr[j], arr[j+1] = arr[j+1], arr[j]\n",
        "    return arr\n"
      ]
    },
    {
      "cell_type": "markdown",
      "source": [
        "Escribe una función que reciba una lista de números enteros que representan las edades de un grupo de personas. Tu tarea es ordenar estas edades en orden ascendente utilizando el algoritmo de ordenamiento por Burbuja. Después de ordenar las edades, la función debe imprimir la lista ordenada y la edad promedio del grupo."
      ],
      "metadata": {
        "id": "pdmvRGn-AW8M"
      }
    },
    {
      "cell_type": "code",
      "source": [
        "def calcular_promedio(edades):\n",
        "    return sum(edades) / len(edades)\n",
        "\n",
        "def ordenar_edades_y_calcular_promedio(edades):\n",
        "    # Ordenar las edades usando el algoritmo de Burbuja\n",
        "    bubble_sort(edades)\n",
        "\n",
        "    # Calcular la edad promedio\n",
        "    promedio = calcular_promedio(edades)\n",
        "\n",
        "    # Imprimir resultados\n",
        "    print(\"Edades ordenadas:\", edades)\n",
        "    print(\"Edad promedio:\", promedio)\n",
        "\n",
        "# Ejemplo de uso\n",
        "edades = [34, 23, 45, 22, 35, 27, 28, 31]\n",
        "ordenar_edades_y_calcular_promedio(edades)\n"
      ],
      "metadata": {
        "colab": {
          "base_uri": "https://localhost:8080/"
        },
        "id": "PBXWGm2JAU1n",
        "outputId": "7abb114e-a5b2-40bf-e376-d0bd285dc9c9"
      },
      "execution_count": null,
      "outputs": [
        {
          "output_type": "stream",
          "name": "stdout",
          "text": [
            "Edades ordenadas: [22, 23, 27, 28, 31, 34, 35, 45]\n",
            "Edad promedio: 30.625\n"
          ]
        }
      ]
    },
    {
      "cell_type": "code",
      "source": [
        "def insertion_sort(arr):\n",
        "    # Recorre desde el segundo elemento hasta el final\n",
        "    for i in range(1, len(arr)):\n",
        "        key = arr[i]\n",
        "        j = i - 1\n",
        "        # Mueve los elementos de arr[0..i-1], que son mayores que key, a una posición adelante\n",
        "        while j >= 0 and key < arr[j]:\n",
        "            arr[j + 1] = arr[j]\n",
        "            j -= 1\n",
        "        arr[j + 1] = key\n",
        "    return arr\n"
      ],
      "metadata": {
        "id": "vf9h2iVwB2Ge"
      },
      "execution_count": null,
      "outputs": []
    },
    {
      "cell_type": "markdown",
      "source": [
        "Tienes una lista de nombres de estudiantes en un aula, pero no están ordenados alfabéticamente. Escribe una función que utilice el algoritmo de ordenamiento por Inserción para ordenar estos nombres en orden alfabético. Una vez ordenados, imprime la lista ordenada y cuenta cuántos nombres empiezan con la letra \"A\"."
      ],
      "metadata": {
        "id": "F2fX5pTyBvtI"
      }
    },
    {
      "cell_type": "code",
      "source": [
        "def contar_nombres_con_a(nombres):\n",
        "    count = 0\n",
        "    for nombre in nombres:\n",
        "        if nombre.startswith(\"A\"):\n",
        "            count += 1\n",
        "    return count\n",
        "\n",
        "def ordenar_nombres_y_contar_a(nombres):\n",
        "    # Ordenar los nombres usando el algoritmo de Inserción\n",
        "    insertion_sort(nombres)\n",
        "\n",
        "    # Contar cuántos nombres empiezan con 'A'\n",
        "    count_a = contar_nombres_con_a(nombres)\n",
        "\n",
        "    # Imprimir resultados\n",
        "    print(\"Nombres ordenados:\", nombres)\n",
        "    print(\"Cantidad de nombres que empiezan con 'A':\", count_a)\n",
        "\n",
        "# Ejemplo de uso\n",
        "nombres = [\"Luis\", \"Ana\", \"Mario\", \"Andrea\", \"Carla\", \"Alberto\", \"Beatriz\"]\n",
        "ordenar_nombres_y_contar_a(nombres)\n"
      ],
      "metadata": {
        "colab": {
          "base_uri": "https://localhost:8080/"
        },
        "id": "beQDPodVAYxJ",
        "outputId": "c93854a0-bc54-4c40-c244-c3e3d82ef980"
      },
      "execution_count": null,
      "outputs": [
        {
          "output_type": "stream",
          "name": "stdout",
          "text": [
            "Nombres ordenados: ['Alberto', 'Ana', 'Andrea', 'Beatriz', 'Carla', 'Luis', 'Mario']\n",
            "Cantidad de nombres que empiezan con 'A': 3\n"
          ]
        }
      ]
    },
    {
      "cell_type": "markdown",
      "source": [
        "Imagina que tienes la siguiente lista de personas:"
      ],
      "metadata": {
        "id": "eWvgdj1kCaei"
      }
    },
    {
      "cell_type": "code",
      "source": [
        "personas = [\n",
        "    {\"nombre\": \"Luis\", \"edad\": 34},\n",
        "    {\"nombre\": \"Ana\", \"edad\": 29},\n",
        "    {\"nombre\": \"Mario\", \"edad\": 40},\n",
        "    {\"nombre\": \"Ana\", \"edad\": 22},\n",
        "    {\"nombre\": \"Luis\", \"edad\": 25},\n",
        "    {\"nombre\": \"Beatriz\", \"edad\": 30}\n",
        "]\n"
      ],
      "metadata": {
        "id": "d2FXGai7BzXn"
      },
      "execution_count": null,
      "outputs": []
    },
    {
      "cell_type": "markdown",
      "source": [
        "Queremos ordenar esta lista primero por el nombre alfabéticamente y, en caso de que dos nombres sean iguales, por edad en orden ascendente."
      ],
      "metadata": {
        "id": "5E_axjyFCgni"
      }
    },
    {
      "cell_type": "code",
      "source": [
        "def bubble_sort_personas(personas):\n",
        "    n = len(personas)\n",
        "    for i in range(n):\n",
        "        for j in range(0, n-i-1):\n",
        "            if (personas[j][\"nombre\"] > personas[j+1][\"nombre\"]) or \\\n",
        "               (personas[j][\"nombre\"] == personas[j+1][\"nombre\"] and personas[j][\"edad\"] > personas[j+1][\"edad\"]):\n",
        "                personas[j], personas[j+1] = personas[j+1], personas[j]\n",
        "    return personas\n"
      ],
      "metadata": {
        "id": "TE6cKp47CcIe"
      },
      "execution_count": null,
      "outputs": []
    },
    {
      "cell_type": "code",
      "source": [
        "def insertion_sort_personas(personas):\n",
        "    for i in range(1, len(personas)):\n",
        "        key = personas[i]\n",
        "        j = i - 1\n",
        "        while j >= 0 and (\n",
        "            personas[j][\"nombre\"] > key[\"nombre\"] or\n",
        "            (personas[j][\"nombre\"] == key[\"nombre\"] and personas[j][\"edad\"] > key[\"edad\"])\n",
        "        ):\n",
        "            personas[j + 1] = personas[j]\n",
        "            j -= 1\n",
        "        personas[j + 1] = key\n",
        "    return personas\n"
      ],
      "metadata": {
        "id": "zw0wunmhCiNO"
      },
      "execution_count": null,
      "outputs": []
    },
    {
      "cell_type": "code",
      "source": [
        "import time\n",
        "# Datos de entrada\n",
        "personas = [\n",
        "    {\"nombre\": \"Luis\", \"edad\": 34},\n",
        "    {\"nombre\": \"Ana\", \"edad\": 29},\n",
        "    {\"nombre\": \"Mario\", \"edad\": 40},\n",
        "    {\"nombre\": \"Ana\", \"edad\": 22},\n",
        "    {\"nombre\": \"Luis\", \"edad\": 25},\n",
        "    {\"nombre\": \"Beatriz\", \"edad\": 30}\n",
        "]\n",
        "\n",
        "# Ordenar usando Burbuja\n",
        "start_time = time.time()\n",
        "ordenado_burbuja = bubble_sort_personas(personas.copy())\n",
        "end_time = time.time()\n",
        "tiempo_burbuja = end_time - start_time\n",
        "print(\"Ordenado por Burbuja:\")\n",
        "for persona in ordenado_burbuja:\n",
        "    print(persona)\n",
        "print(f\"Tiempo de ejecución (Burbuja): {tiempo_burbuja:.6f} segundos\")\n",
        "\n",
        "# Ordenar usando Inserción\n",
        "start_time = time.time()\n",
        "ordenado_insercion = insertion_sort_personas(personas.copy())\n",
        "end_time = time.time()\n",
        "tiempo_insercion = end_time - start_time\n",
        "print(\"\\nOrdenado por Inserción:\")\n",
        "for persona in ordenado_insercion:\n",
        "    print(persona)\n",
        "print(f\"Tiempo de ejecución (Inserción): {tiempo_insercion:.6f} segundos\")\n"
      ],
      "metadata": {
        "colab": {
          "base_uri": "https://localhost:8080/"
        },
        "id": "Gtu7Q5eoCmiY",
        "outputId": "dc9abf46-6364-4d6a-a7dd-4e19d3b2b81d"
      },
      "execution_count": null,
      "outputs": [
        {
          "output_type": "stream",
          "name": "stdout",
          "text": [
            "Ordenado por Burbuja:\n",
            "{'nombre': 'Ana', 'edad': 22}\n",
            "{'nombre': 'Ana', 'edad': 29}\n",
            "{'nombre': 'Beatriz', 'edad': 30}\n",
            "{'nombre': 'Luis', 'edad': 25}\n",
            "{'nombre': 'Luis', 'edad': 34}\n",
            "{'nombre': 'Mario', 'edad': 40}\n",
            "Tiempo de ejecución (Burbuja): 0.000070 segundos\n",
            "\n",
            "Ordenado por Inserción:\n",
            "{'nombre': 'Ana', 'edad': 22}\n",
            "{'nombre': 'Ana', 'edad': 29}\n",
            "{'nombre': 'Beatriz', 'edad': 30}\n",
            "{'nombre': 'Luis', 'edad': 25}\n",
            "{'nombre': 'Luis', 'edad': 34}\n",
            "{'nombre': 'Mario', 'edad': 40}\n",
            "Tiempo de ejecución (Inserción): 0.000121 segundos\n"
          ]
        }
      ]
    },
    {
      "cell_type": "code",
      "source": [],
      "metadata": {
        "id": "1L8tOXRHCoZK"
      },
      "execution_count": null,
      "outputs": []
    }
  ]
}