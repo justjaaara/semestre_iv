{
  "nbformat": 4,
  "nbformat_minor": 0,
  "metadata": {
    "colab": {
      "provenance": []
    },
    "kernelspec": {
      "name": "python3",
      "display_name": "Python 3"
    },
    "language_info": {
      "name": "python"
    }
  },
  "cells": [
    {
      "cell_type": "markdown",
      "source": [
        "El algoritmo Heapsort es un algoritmo de ordenamiento basado en una estructura de datos llamada montículo (heap). Un montículo es un árbol binario completo que sigue una propiedad específica, como ser un montículo máximo (el valor de cada nodo es mayor o igual al valor de sus hijos) o un montículo mínimo (el valor de cada nodo es menor o igual al valor de sus hijos). Heapsort utiliza un montículo máximo para ordenar los elementos en orden ascendente.\n",
        "\n",
        "Pasos del algoritmo Heapsort:\n",
        "Construcción del montículo máximo: El primer paso consiste en transformar la lista desordenada en un montículo máximo.\n",
        "Ordenamiento: Repetidamente, el algoritmo intercambia el primer elemento del montículo (que es el mayor) con el último elemento de la lista. Después de cada intercambio, se reduce el tamaño del montículo y se reorganiza para restaurar la propiedad de montículo máximo.\n",
        "Complejidad del algoritmo:\n",
        "El proceso de construcción del montículo toma tiempo\n",
        "𝑂\n",
        "(\n",
        "𝑛\n",
        ")\n",
        ".\n",
        "El proceso de extracción y reorganización toma\n",
        "𝑂\n",
        "(\n",
        "log\n",
        "⁡\n",
        "𝑛\n",
        ")\n",
        ", y se realiza\n",
        "𝑛\n",
        "n veces, por lo que el tiempo total del algoritmo es\n",
        "𝑂\n",
        "(\n",
        "𝑛\n",
        "log\n",
        "⁡\n",
        "𝑛\n",
        ")\n",
        "."
      ],
      "metadata": {
        "id": "zasiDrcrAQof"
      }
    },
    {
      "cell_type": "code",
      "execution_count": null,
      "metadata": {
        "colab": {
          "base_uri": "https://localhost:8080/"
        },
        "id": "0ZnLD5sfALZQ",
        "outputId": "6827a067-9ff6-4494-dfbf-7a9f8ca9b1b4"
      },
      "outputs": [
        {
          "output_type": "stream",
          "name": "stdout",
          "text": [
            "Array ordenado: [5, 6, 7, 11, 12, 13]\n"
          ]
        }
      ],
      "source": [
        "def heapify(arr, n, i):\n",
        "    largest = i  # Inicializar el nodo raíz como el más grande\n",
        "    left = 2 * i + 1  # Hijo izquierdo\n",
        "    right = 2 * i + 2  # Hijo derecho\n",
        "\n",
        "    # Si el hijo izquierdo es mayor que el nodo raíz\n",
        "    if left < n and arr[left] > arr[largest]:\n",
        "        largest = left\n",
        "\n",
        "    # Si el hijo derecho es mayor que el nodo más grande\n",
        "    if right < n and arr[right] > arr[largest]:\n",
        "        largest = right\n",
        "\n",
        "    # Si el más grande no es el nodo raíz\n",
        "    if largest != i:\n",
        "        arr[i], arr[largest] = arr[largest], arr[i]  # Intercambiar\n",
        "\n",
        "        # Aplicar heapify en el nodo afectado\n",
        "        heapify(arr, n, largest)\n",
        "\n",
        "def heapsort(arr):\n",
        "    n = len(arr)\n",
        "\n",
        "    # Construir el montículo máximo\n",
        "    for i in range(n // 2 - 1, -1, -1):\n",
        "        heapify(arr, n, i)\n",
        "\n",
        "    # Extraer elementos uno por uno del montículo\n",
        "    for i in range(n-1, 0, -1):\n",
        "        arr[i], arr[0] = arr[0], arr[i]  # Intercambiar el elemento más grande con el último\n",
        "        heapify(arr, i, 0)  # Llamar a heapify para restaurar el montículo\n",
        "\n",
        "# Ejemplo de uso\n",
        "arr = [12, 11, 13, 5, 6, 7]\n",
        "heapsort(arr)\n",
        "print(\"Array ordenado:\", arr)\n"
      ]
    },
    {
      "cell_type": "markdown",
      "source": [
        "El algoritmo Mergesort es un algoritmo de ordenamiento basado en el paradigma de divide y vencerás. Funciona dividiendo recursivamente la lista en mitades hasta que cada sublista tenga un solo elemento, y luego las va combinando (merge) en orden ascendente.\n",
        "\n",
        "Pasos del algoritmo Mergesort:\n",
        "Dividir: Divide la lista en dos mitades.\n",
        "Ordenar: Ordena recursivamente ambas mitades.\n",
        "Combinar: Une las dos mitades ordenadas para formar una lista completa y ordenada.\n",
        "Complejidad del algoritmo:\n",
        "El tiempo de ejecución de Mergesort es\n",
        "𝑂\n",
        "(\n",
        "𝑛\n",
        "log\n",
        "⁡\n",
        "𝑛\n",
        ")\n",
        " en todos los casos (mejor, promedio y peor).\n",
        "Requiere espacio adicional\n",
        "𝑂\n",
        "(\n",
        "𝑛\n",
        ")\n",
        ", ya que utiliza listas auxiliares para la combinación."
      ],
      "metadata": {
        "id": "nJ4CnrxzAw1D"
      }
    },
    {
      "cell_type": "code",
      "source": [
        "def merge(arr, left, middle, right):\n",
        "    # Tamaño de las sublistas\n",
        "    n1 = middle - left + 1\n",
        "    n2 = right - middle\n",
        "\n",
        "    # Crear listas temporales\n",
        "    L = arr[left:middle + 1]\n",
        "    R = arr[middle + 1:right + 1]\n",
        "\n",
        "    # Índices iniciales de las sublistas y de la lista principal\n",
        "    i = j = 0\n",
        "    k = left\n",
        "\n",
        "    # Combinar las sublistas en orden ascendente\n",
        "    while i < n1 and j < n2:\n",
        "        if L[i] <= R[j]:\n",
        "            arr[k] = L[i]\n",
        "            i += 1\n",
        "        else:\n",
        "            arr[k] = R[j]\n",
        "            j += 1\n",
        "        k += 1\n",
        "\n",
        "    # Copiar los elementos restantes de L[] si quedan\n",
        "    while i < n1:\n",
        "        arr[k] = L[i]\n",
        "        i += 1\n",
        "        k += 1\n",
        "\n",
        "    # Copiar los elementos restantes de R[] si quedan\n",
        "    while j < n2:\n",
        "        arr[k] = R[j]\n",
        "        j += 1\n",
        "        k += 1\n",
        "\n",
        "def mergesort(arr, left, right):\n",
        "    if left < right:\n",
        "        # Encontrar el punto medio de la lista\n",
        "        middle = (left + right) // 2\n",
        "\n",
        "        # Ordenar la primera y la segunda mitad\n",
        "        mergesort(arr, left, middle)\n",
        "        mergesort(arr, middle + 1, right)\n",
        "\n",
        "        # Combinar las dos mitades ordenadas\n",
        "        merge(arr, left, middle, right)\n",
        "\n",
        "# Ejemplo de uso\n",
        "arr = [12, 11, 13, 5, 6, 7]\n",
        "mergesort(arr, 0, len(arr) - 1)\n",
        "print(\"Array ordenado:\", arr)\n"
      ],
      "metadata": {
        "colab": {
          "base_uri": "https://localhost:8080/"
        },
        "id": "W-TtPY0uAeef",
        "outputId": "dc483a89-e526-4434-c313-28647a692836"
      },
      "execution_count": null,
      "outputs": [
        {
          "output_type": "stream",
          "name": "stdout",
          "text": [
            "Array ordenado: [5, 6, 7, 11, 12, 13]\n"
          ]
        }
      ]
    },
    {
      "cell_type": "markdown",
      "source": [
        "Desafío 1: Organización de citas médicas (Heapsort)\n",
        "\n",
        "Descripción: Estás diseñando un sistema para un consultorio médico que debe organizar las citas diarias de los pacientes en orden de prioridad. Cada cita tiene un identificador, una hora de inicio y una prioridad. Las prioridades se asignan de la siguiente manera:\n",
        "\n",
        "1: Emergencias.\n",
        "\n",
        "2: Citas regulares.\n",
        "\n",
        "3: Revisiones de rutina.\n",
        "\n",
        "El desafío consiste en implementar un algoritmo que use Heapsort para ordenar las citas primero por prioridad (1 tiene más prioridad que 3), y si dos citas tienen la misma prioridad, se ordenarán por la hora de inicio.\n",
        "\n",
        "Entrada: Una lista de citas, donde cada cita es una tupla con el formato (id_cita, hora_inicio, prioridad)."
      ],
      "metadata": {
        "id": "An3YFF9Rz3j4"
      }
    },
    {
      "cell_type": "code",
      "source": [
        "citas = [\n",
        "    (101, \"09:00\", 2),\n",
        "    (102, \"08:30\", 1),\n",
        "    (103, \"09:15\", 3),\n",
        "    (104, \"08:45\", 2),\n",
        "    (105, \"08:00\", 1)\n",
        "]\n",
        "\n"
      ],
      "metadata": {
        "id": "j0oN-XWdA2cw"
      },
      "execution_count": null,
      "outputs": []
    },
    {
      "cell_type": "markdown",
      "source": [
        "Salida esperada: La lista de citas ordenada por prioridad y luego por hora de inicio."
      ],
      "metadata": {
        "id": "9NwTgxC10yOj"
      }
    },
    {
      "cell_type": "code",
      "source": [
        "[(105, '08:00', 1), (102, '08:30', 1), (101, '09:00', 2), (104, '08:45', 2), (103, '09:15', 3)]\n"
      ],
      "metadata": {
        "colab": {
          "base_uri": "https://localhost:8080/"
        },
        "id": "mVxsbTDa0zSh",
        "outputId": "5a6dab04-cc8f-461c-b43e-3ff03b040767"
      },
      "execution_count": null,
      "outputs": [
        {
          "output_type": "execute_result",
          "data": {
            "text/plain": [
              "[(105, '08:00', 1),\n",
              " (102, '08:30', 1),\n",
              " (101, '09:00', 2),\n",
              " (104, '08:45', 2),\n",
              " (103, '09:15', 3)]"
            ]
          },
          "metadata": {},
          "execution_count": 7
        }
      ]
    },
    {
      "cell_type": "markdown",
      "source": [
        "Desafío 2: Clasificación de proyectos por presupuesto y duración (Mergesort)\n",
        "\n",
        "Descripción: Una empresa de construcción tiene varios proyectos en curso y necesita organizar una lista de proyectos por presupuesto. Si dos proyectos tienen el mismo presupuesto, se ordenarán por la duración estimada (en meses). Si también tienen la misma duración, se mantendrá el orden original de la lista.\n",
        "\n",
        "Cada proyecto tiene un identificador, presupuesto y duración en meses.\n",
        "\n",
        "Entrada: Una lista de proyectos donde cada proyecto es una tupla (id_proyecto, presupuesto, duracion_meses)."
      ],
      "metadata": {
        "id": "UL31bEG80EDm"
      }
    },
    {
      "cell_type": "code",
      "source": [
        "proyectos = [\n",
        "    (1, 50000, 12),\n",
        "    (2, 75000, 8),\n",
        "    (3, 50000, 10),\n",
        "    (4, 100000, 15),\n",
        "    (5, 75000, 6)\n",
        "]\n",
        "\n"
      ],
      "metadata": {
        "id": "p09rusIcz6-Y"
      },
      "execution_count": null,
      "outputs": []
    },
    {
      "cell_type": "markdown",
      "source": [
        "Salida esperada: La lista de proyectos ordenada por presupuesto y duración."
      ],
      "metadata": {
        "id": "k7rRZULm1Amo"
      }
    },
    {
      "cell_type": "code",
      "source": [
        "[(1, 50000, 12), (3, 50000, 10), (5, 75000, 6), (2, 75000, 8), (4, 100000, 15)]\n"
      ],
      "metadata": {
        "colab": {
          "base_uri": "https://localhost:8080/"
        },
        "id": "YBEY1l8k0VEk",
        "outputId": "0ea28b02-cbad-4620-8ab1-2d6fc0b1f7aa"
      },
      "execution_count": null,
      "outputs": [
        {
          "output_type": "execute_result",
          "data": {
            "text/plain": [
              "[(1, 50000, 12), (3, 50000, 10), (5, 75000, 6), (2, 75000, 8), (4, 100000, 15)]"
            ]
          },
          "metadata": {},
          "execution_count": 9
        }
      ]
    },
    {
      "cell_type": "code",
      "source": [],
      "metadata": {
        "id": "PXVsBjSn1CEi"
      },
      "execution_count": null,
      "outputs": []
    }
  ]
}