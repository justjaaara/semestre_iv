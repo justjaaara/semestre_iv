{
  "nbformat": 4,
  "nbformat_minor": 0,
  "metadata": {
    "colab": {
      "provenance": []
    },
    "kernelspec": {
      "name": "python3",
      "display_name": "Python 3"
    },
    "language_info": {
      "name": "python"
    }
  },
  "cells": [
    {
      "cell_type": "markdown",
      "source": [
        "###BucketSort"
      ],
      "metadata": {
        "id": "4IKA3sq21XCK"
      }
    },
    {
      "cell_type": "markdown",
      "source": [
        "El algoritmo Bucket Sort (o clasificación por cubetas) es un algoritmo de ordenamiento que distribuye los elementos a ordenar en varios \"cubos\" (o buckets), para luego ordenar cada cubo individualmente (usando otro algoritmo de ordenación, como por ejemplo Insertion Sort) y finalmente concatenar el contenido de los cubos para obtener el arreglo ordenado.\n",
        "\n",
        "Proceso del algoritmo Bucket Sort:\n",
        "Inicialización de los buckets: Se crean una cantidad de cubos (o buckets) vacíos. El número de cubos puede variar según la implementación, pero normalmente es igual al número de elementos o se calcula en función de una característica de los datos (por ejemplo, si los elementos son decimales entre 0 y 1, se puede usar el número de cubos igual al tamaño de la lista).\n",
        "\n",
        "Distribución de los elementos: Cada elemento del arreglo de entrada se distribuye en uno de los cubos basándose en alguna función de dispersión. Por ejemplo, si los elementos están en el rango [0, 1), se puede multiplicar el valor por el número total de cubos y colocarlo en el cubo correspondiente.\n",
        "\n",
        "Ordenamiento de cada bucket: Una vez que todos los elementos están distribuidos, se ordena cada cubo por separado. Este paso suele realizarse con un algoritmo eficiente en listas pequeñas, como el Insertion Sort.\n",
        "\n",
        "Concatenación de los buckets: Finalmente, se toman los elementos de cada cubo y se concatenan para formar el arreglo final ordenado."
      ],
      "metadata": {
        "id": "FX79yQF408eI"
      }
    },
    {
      "cell_type": "code",
      "execution_count": null,
      "metadata": {
        "colab": {
          "base_uri": "https://localhost:8080/"
        },
        "id": "uktux8Ui000N",
        "outputId": "1086cf50-c1e1-4ea1-a9f9-083eda94633b"
      },
      "outputs": [
        {
          "output_type": "stream",
          "name": "stdout",
          "text": [
            "[0.32, 0.33, 0.37, 0.42, 0.47, 0.51, 0.52]\n"
          ]
        }
      ],
      "source": [
        "def bucket_sort(arr):\n",
        "    n = len(arr)\n",
        "    buckets = [[] for _ in range(n)]\n",
        "\n",
        "    # Distribuir los elementos en los cubos\n",
        "    for element in arr:\n",
        "        index = int(n * element)  # Calcular el índice del cubo\n",
        "        buckets[index].append(element)\n",
        "\n",
        "    # Ordenar cada cubo\n",
        "    for bucket in buckets:\n",
        "        bucket.sort()\n",
        "\n",
        "    # Concatenar todos los cubos en el arreglo original\n",
        "    sorted_arr = []\n",
        "    for bucket in buckets:\n",
        "        sorted_arr.extend(bucket)\n",
        "\n",
        "    return sorted_arr\n",
        "\n",
        "# Ejemplo de uso\n",
        "arr = [0.42, 0.32, 0.33, 0.52, 0.37, 0.47, 0.51]\n",
        "sorted_arr = bucket_sort(arr)\n",
        "print(sorted_arr)\n"
      ]
    },
    {
      "cell_type": "markdown",
      "source": [
        "Complejidad del algoritmo:\n",
        "\n",
        "Tiempo promedio: O(n + k), donde n es el número de elementos y k es el número de cubos. En el mejor de los casos, los elementos se distribuyen de manera uniforme en los cubos.\n",
        "Peor caso: O(n²) si todos los elementos caen en el mismo cubo, lo que reduce el algoritmo a un simple ordenamiento tradicional en ese cubo.\n",
        "\n",
        "Espacio: O(n + k), dado que se necesita espacio adicional para los cubos.\n",
        "\n",
        "¿Cuándo usar Bucket Sort?\n",
        "Bucket Sort es muy eficiente cuando los datos están distribuidos de manera uniforme en un rango conocido y es posible aprovechar esa distribución. Un caso típico es cuando los datos están distribuidos uniformemente entre [0, 1), como en números decimales, o cuando se sabe de antemano que los elementos tienen una distribución que se presta a dividirlos en cubetas."
      ],
      "metadata": {
        "id": "KSa74y_l1Eyc"
      }
    },
    {
      "cell_type": "markdown",
      "source": [
        "###RadixSort"
      ],
      "metadata": {
        "id": "jKoFTNZ_1T5Y"
      }
    },
    {
      "cell_type": "markdown",
      "source": [
        "El algoritmo Radix Sort es un algoritmo de ordenamiento no comparativo que ordena los números basándose en sus dígitos o posiciones individuales, comenzando desde el dígito menos significativo (LSB, del inglés Least Significant Bit) hasta el más significativo (MSB, Most Significant Bit). Se utiliza principalmente para ordenar números enteros o cadenas de longitud fija. Radix Sort puede ser implementado tanto en una versión de base decimal (base 10) como en una versión binaria (base 2), pero la idea central es la misma.\n",
        "\n",
        "Proceso del algoritmo Radix Sort:\n",
        "Elección de la base: El primer paso es elegir una base (por lo general 10 si trabajamos con números decimales). Esto significa que el algoritmo procesará cada dígito en base 10, uno por uno, desde el dígito menos significativo hasta el más significativo.\n",
        "\n",
        "Ordenamiento estable por dígitos: El algoritmo utiliza un algoritmo de ordenamiento estable (como Counting Sort) para ordenar los números basándose en cada dígito de la posición actual. El concepto de ordenamiento estable es importante porque garantiza que si dos números tienen el mismo valor en la posición actual, se mantendrá su orden relativo anterior.\n",
        "\n",
        "Iteración por cada dígito: El proceso de ordenar por dígito se repite desde la posición menos significativa (la última en un número) hasta la posición más significativa.\n",
        "\n",
        "Resultado final: Después de completar el proceso para todos los dígitos, los números quedan completamente ordenados."
      ],
      "metadata": {
        "id": "CUedOOoI1aBR"
      }
    },
    {
      "cell_type": "code",
      "source": [
        "def counting_sort(arr, exp):\n",
        "    n = len(arr)\n",
        "    output = [0] * n\n",
        "    count = [0] * 10\n",
        "\n",
        "    # Contar ocurrencias del dígito en la posición exp\n",
        "    for i in range(n):\n",
        "        index = (arr[i] // exp) % 10\n",
        "        count[index] += 1\n",
        "\n",
        "    # Actualizar el array count para que contenga las posiciones finales de los dígitos\n",
        "    for i in range(1, 10):\n",
        "        count[i] += count[i - 1]\n",
        "\n",
        "    # Construir el array output usando count para colocar los elementos en su lugar correcto\n",
        "    i = n - 1\n",
        "    while i >= 0:\n",
        "        index = (arr[i] // exp) % 10\n",
        "        output[count[index] - 1] = arr[i]\n",
        "        count[index] -= 1\n",
        "        i -= 1\n",
        "\n",
        "    # Copiar el contenido de output en arr para que arr contenga los números ordenados según el dígito actual\n",
        "    for i in range(n):\n",
        "        arr[i] = output[i]\n",
        "\n",
        "def radix_sort(arr):\n",
        "    # Encontrar el número máximo para conocer el número de dígitos\n",
        "    max_element = max(arr)\n",
        "\n",
        "    # Aplicar counting sort para cada dígito. exp es 10^i donde i es el dígito actual.\n",
        "    exp = 1\n",
        "    while max_element // exp > 0:\n",
        "        counting_sort(arr, exp)\n",
        "        exp *= 10\n",
        "\n",
        "# Ejemplo de uso\n",
        "arr = [170, 45, 75, 90, 802, 24, 2, 66]\n",
        "radix_sort(arr)\n",
        "print(arr)\n"
      ],
      "metadata": {
        "colab": {
          "base_uri": "https://localhost:8080/"
        },
        "id": "oby0LluX1BpU",
        "outputId": "d13e0219-4c9a-4a64-f284-6522a2f0409f"
      },
      "execution_count": null,
      "outputs": [
        {
          "output_type": "stream",
          "name": "stdout",
          "text": [
            "[2, 24, 45, 66, 75, 90, 170, 802]\n"
          ]
        }
      ]
    },
    {
      "cell_type": "markdown",
      "source": [
        "Explicación:\n",
        "\n",
        "counting_sort(arr, exp): Esta función es el paso clave que ordena el arreglo arr basándose en el dígito actual determinado por exp. El valor de exp varía en cada iteración de Radix Sort, comenzando en 1 (para el dígito menos significativo) y multiplicándose por 10 en cada ciclo.\n",
        "\n",
        "radix_sort(arr):\n",
        "\n",
        "Primero, se determina el número máximo del arreglo para saber cuántos dígitos tiene el número más grande.\n",
        "Luego, se aplica Counting Sort para cada posición de dígito, desde el menos significativo hasta el más significativo.\n",
        "El arreglo se actualiza en cada iteración de Counting Sort, asegurando que los dígitos más importantes determinen el orden final."
      ],
      "metadata": {
        "id": "ytcXsAy51g45"
      }
    },
    {
      "cell_type": "markdown",
      "source": [
        "Complejidad del algoritmo:\n",
        "\n",
        "Tiempo: O(d * (n + k)), donde n es el número de elementos, d es el número máximo de dígitos y k es el rango de los valores posibles en cada dígito (para base 10, k = 10). En la práctica, Radix Sort es eficiente cuando d es pequeño en comparación con n.\n",
        "\n",
        "Espacio: O(n + k), ya que se utiliza espacio adicional para el arreglo de salida y el arreglo de conteo.\n",
        "Características de Radix Sort:\n",
        "Es un algoritmo estable, lo cual significa que preserva el orden relativo de los elementos con claves iguales.\n",
        "Funciona bien cuando el número de dígitos es bajo en comparación con el número de elementos, por ejemplo, cuando ordenamos números de tamaño fijo.\n",
        "\n",
        "No se basa en comparaciones directas entre los elementos, lo que lo diferencia de algoritmos como Quick Sort o Merge Sort.\n",
        "\n",
        "Aplicaciones comunes:\n",
        "Radix Sort es útil cuando los datos tienen un rango fijo o están bien distribuidos y cuando se requiere un algoritmo de ordenamiento estable. Es común en sistemas que procesan números enteros largos o claves alfanuméricas de longitud fija (por ejemplo, números de teléfono, códigos postales, etc.)."
      ],
      "metadata": {
        "id": "MkXpvFRS1kMm"
      }
    },
    {
      "cell_type": "code",
      "source": [],
      "metadata": {
        "id": "TWfINJeS1dPM"
      },
      "execution_count": null,
      "outputs": []
    }
  ]
}