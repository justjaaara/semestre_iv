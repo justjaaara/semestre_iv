{
  "cells": [
    {
      "cell_type": "markdown",
      "metadata": {
        "id": "EETjCUCW7Xp1"
      },
      "source": [
        "###Ideas de Casos de Uso\n",
        "##Optimización de Rutas de Entrega:\n",
        "\n",
        "Descripción: Estudia cómo una empresa de entrega puede optimizar sus rutas utilizando algoritmos de grafos.\n",
        "\n",
        "Enfoques: Comparar algoritmos voraces como el algoritmo de Dijkstra con técnicas de programación dinámica.\n",
        "\n",
        "Análisis: Evaluar la complejidad temporal y espacial, y realizar pruebas de estrés simulando múltiples entregas y condiciones de tráfico.\n",
        "\n",
        "##Sistema de Recomendación:\n",
        "\n",
        "Descripción: Analizar cómo se pueden implementar sistemas de recomendación para plataformas de streaming o ecommerce.\n",
        "\n",
        "Enfoques: Utilizar algoritmos de clustering o técnicas de programación dinámica para mejorar la personalización de las recomendaciones.\n",
        "\n",
        "Análisis: Comparar los métodos, calcular la complejidad y hacer pruebas de carga con datos de usuarios simulados.\n",
        "\n",
        "##Planificación de Horarios:\n",
        "\n",
        "Descripción: Estudiar cómo programar horarios para clases o eventos teniendo en cuenta restricciones (como la disponibilidad de aulas o profesores).\n",
        "\n",
        "Enfoques: Aplicar técnicas de divide y vencerás para descomponer el problema o algoritmos voraces para asignar espacios.\n",
        "\n",
        "Análisis: Revisar la complejidad de cada enfoque y realizar pruebas de estrés con diferentes cantidades de clases y recursos.\n",
        "\n",
        "##Optimización de Recursos en la Nube:\n",
        "\n",
        "Descripción: Analizar cómo se pueden optimizar los costos y recursos en plataformas de nube (como AWS).\n",
        "\n",
        "Enfoques: Usar programación dinámica para predecir el uso de recursos o algoritmos voraces para asignar recursos en tiempo real.\n",
        "\n",
        "Análisis: Comparar el uso de memoria y tiempo, y hacer pruebas de estrés simulando picos de carga.\n",
        "\n",
        "##Compresión de Imágenes:\n",
        "\n",
        "Descripción: Investigar cómo funcionan los algoritmos de compresión de imágenes (como JPEG) y su aplicabilidad en aplicaciones de red.\n",
        "\n",
        "Enfoques: Usar algoritmos de divide y vencerás o programación dinámica para optimizar la compresión.\n",
        "\n",
        "Análisis: Comparar la calidad de la imagen y el tiempo de procesamiento, y realizar pruebas de carga con diferentes tamaños de imágenes.\n",
        "\n",
        "##Juego de Estrategia:\n",
        "\n",
        "Descripción: Analizar un juego de estrategia (como el ajedrez) y cómo se puede optimizar la búsqueda de movimientos.\n",
        "\n",
        "Enfoques: Utilizar técnicas de programación dinámica para evaluar las posiciones de juego o algoritmos voraces para elegir el mejor movimiento.\n",
        "\n",
        "Análisis: Estudiar la complejidad de tiempo y espacio, y realizar pruebas de estrés con diferentes configuraciones de juego.\n",
        "\n",
        "###Estructura del Trabajo\n",
        "Introducción:\n",
        "\n",
        "Presentar el caso de uso y su relevancia en la vida real.\n",
        "\n",
        "Planteamiento del Problema:\n",
        "\n",
        "Describir el problema específico que se está abordando y las restricciones que existen.\n",
        "\n",
        "Análisis de Soluciones:\n",
        "\n",
        "Comparar las diferentes técnicas (divide y vencerás, programación dinámica, algoritmos voraces).\n",
        "Discutir las ventajas y desventajas de cada enfoque en relación con el problema.\n",
        "\n",
        "Complejidad de Tiempo y Espacio:\n",
        "\n",
        "Calcular y presentar la complejidad para cada solución propuesta.\n",
        "\n",
        "Pruebas de Estrés y Sobrecarga:\n",
        "\n",
        "Diseñar y ejecutar pruebas de estrés para evaluar la robustez de la solución.\n",
        "Presentar los resultados y análisis de las pruebas.\n",
        "\n",
        "Conclusiones:\n",
        "\n",
        "Resumir las lecciones aprendidas y las recomendaciones para futuras implementaciones.\n"
      ]
    },
    {
      "cell_type": "code",
      "execution_count": null,
      "metadata": {
        "id": "6nz4dRN77Vnd"
      },
      "outputs": [],
      "source": []
    }
  ],
  "metadata": {
    "colab": {
      "provenance": []
    },
    "kernelspec": {
      "display_name": "Python 3",
      "name": "python3"
    },
    "language_info": {
      "name": "python"
    }
  },
  "nbformat": 4,
  "nbformat_minor": 0
}
