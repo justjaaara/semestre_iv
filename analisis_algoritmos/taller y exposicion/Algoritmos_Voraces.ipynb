{
  "nbformat": 4,
  "nbformat_minor": 0,
  "metadata": {
    "colab": {
      "provenance": []
    },
    "kernelspec": {
      "name": "python3",
      "display_name": "Python 3"
    },
    "language_info": {
      "name": "python"
    }
  },
  "cells": [
    {
      "cell_type": "markdown",
      "source": [
        "### Algoritmos Voraces o Greedy\n",
        "\n",
        "Para determinar si un algoritmo voraz (greedy) es una buena opción para resolver un problema, es fundamental analizar algunos criterios clave. Aunque los algoritmos voraces son rápidos y eficientes en muchos casos, no siempre garantizan la solución óptima. A continuación, te detallo los principales criterios a tener en cuenta:\n",
        "\n",
        "1. Propiedad de elección voraz (Greedy Choice Property)\n",
        "\n",
        "Un problema es adecuado para un enfoque greedy si es posible tomar decisiones locales óptimas en cada paso que conduzcan a una solución global óptima. Es decir, al seleccionar el mejor paso inmediato en cada etapa, podemos llegar a la mejor solución total sin tener que revisar las decisiones anteriores.\n",
        "\n",
        "Ejemplo: En el problema del cambio mínimo (cuando las monedas tienen denominaciones apropiadas), siempre es posible seleccionar la moneda de mayor valor sin que esto comprometa la solución óptima.\n",
        "Pregunta clave: ¿Es suficiente tomar la mejor decisión localmente para garantizar la mejor solución global?\n",
        "\n",
        "2. Propiedad de subestructura óptima\n",
        "\n",
        "Un problema tiene subestructura óptima si la solución óptima del problema global puede construirse a partir de soluciones óptimas de subproblemas más pequeños. Esto significa que al resolver un subproblema de forma óptima, puedes combinar esa solución con otras para formar una solución general.\n",
        "\n",
        "Ejemplo: En el problema del árbol generador mínimo (algoritmo de Prim), se puede construir el MST (árbol generador mínimo) a partir de soluciones parciales, añadiendo siempre la arista de menor peso que conecta a un nodo no visitado.\n",
        "Pregunta clave: ¿Puedo construir una solución óptima a partir de subsoluciones óptimas?\n",
        "\n",
        "3. No es necesario explorar todas las soluciones\n",
        "\n",
        "Si el problema no requiere una búsqueda exhaustiva de todas las combinaciones posibles para encontrar la solución óptima, un algoritmo voraz puede ser una opción eficiente. Los algoritmos voraces son generalmente mucho más rápidos que otros enfoques como la programación dinámica o la búsqueda exhaustiva, porque no necesitan examinar todas las posibilidades.\n",
        "\n",
        "Ejemplo: En el problema de selección de actividades, puedes seleccionar actividades en base a su tiempo de finalización sin explorar todas las combinaciones posibles.\n",
        "Pregunta clave: ¿Es necesario probar todas las combinaciones posibles, o una elección local es suficiente?\n",
        "\n",
        "4. Eficiencia temporal\n",
        "\n",
        "Los algoritmos voraces son generalmente más rápidos y simples que otros enfoques como la programación dinámica o el backtracking. Si puedes confirmar que el problema satisface las propiedades anteriores y que la solución greedy es óptima, entonces un enfoque voraz será más eficiente en términos de tiempo de ejecución.\n",
        "\n",
        "Ejemplo: Algoritmos como el de Prim o Kruskal para encontrar un árbol generador mínimo son más rápidos que enfoques exhaustivos.\n",
        "Pregunta clave: ¿La eficiencia del algoritmo voraz supera la necesidad de un análisis más profundo?\n",
        "\n",
        "5. Posibles soluciones subóptimas\n",
        "\n",
        "En muchos problemas, un enfoque voraz puede llevar a soluciones subóptimas si no se cumplen las propiedades anteriores. Si el problema no tiene una propiedad de elección voraz o subestructura óptima, entonces el enfoque greedy puede no ser adecuado. En este caso, la programación dinámica o el backtracking pueden ser más apropiados.\n",
        "\n",
        "Ejemplo: En el problema de la mochila 0/1 (donde no puedes tomar fracciones de los objetos), un enfoque voraz no garantiza una solución óptima.\n",
        "Pregunta clave: ¿Es posible que el enfoque voraz lleve a una solución subóptima? Si es así, ¿es aceptable?\n",
        "\n",
        "6. Fácil implementación y simplicidad\n",
        "\n",
        "Si la simplicidad es un factor importante, un algoritmo voraz es generalmente más fácil de implementar que otros enfoques más complejos como la programación dinámica. Cuando se cumple la propiedad de elección voraz y la subestructura óptima, un algoritmo greedy es una solución atractiva por su sencillez.\n",
        "\n",
        "Pregunta clave: ¿El problema puede resolverse de manera más simple con un enfoque voraz?"
      ],
      "metadata": {
        "id": "UGBmKDOKz8dy"
      }
    },
    {
      "cell_type": "markdown",
      "source": [
        "1. Problema del cambio mínimo (Coin Change Problem)\n",
        "\n",
        "Este algoritmo busca devolver el cambio utilizando la menor cantidad de monedas posible. Es un problema clásico en el que el enfoque greedy funciona si las denominaciones de las monedas están bien escogidas (por ejemplo, en sistemas como el dólar o el euro)."
      ],
      "metadata": {
        "id": "_5Kp6G4gyjwY"
      }
    },
    {
      "cell_type": "code",
      "execution_count": 1,
      "metadata": {
        "colab": {
          "base_uri": "https://localhost:8080/"
        },
        "id": "hnabAiE-ydwm",
        "outputId": "2aaa2c44-6a0a-41e3-a5ef-60afce279d02"
      },
      "outputs": [
        {
          "output_type": "stream",
          "name": "stdout",
          "text": [
            "Monedas necesarias: [25, 25, 10, 1, 1, 1]\n"
          ]
        }
      ],
      "source": [
        "def cambio_minimo(denominaciones, monto):\n",
        "    resultado = []\n",
        "    denominaciones.sort(reverse=True)  # Ordenar de mayor a menor para aplicar el algoritmo voraz\n",
        "    for moneda in denominaciones:\n",
        "        while monto >= moneda:\n",
        "            monto -= moneda\n",
        "            resultado.append(moneda)\n",
        "    return resultado\n",
        "\n",
        "# Ejemplo de uso\n",
        "denominaciones = [1, 5, 10, 25]\n",
        "monto = 63\n",
        "print(f\"Monedas necesarias: {cambio_minimo(denominaciones, monto)}\")\n"
      ]
    },
    {
      "cell_type": "markdown",
      "source": [
        "2. Problema del Knapsack Fraccionario (Fractional Knapsack Problem)\n",
        "\n",
        "En este problema, dado un conjunto de objetos con un peso y un valor, debes maximizar el valor total que puedes llevar en una mochila con un límite de peso, permitiendo tomar fracciones de objetos."
      ],
      "metadata": {
        "id": "jq1vwG3xytD_"
      }
    },
    {
      "cell_type": "code",
      "source": [
        "class Objeto:\n",
        "    def __init__(self, valor, peso):\n",
        "        self.valor = valor\n",
        "        self.peso = peso\n",
        "        self.ratio = valor / peso\n",
        "\n",
        "def knapsack_fraccional(objetos, capacidad):\n",
        "    # Ordenar objetos por ratio valor/peso en orden descendente\n",
        "    objetos.sort(key=lambda x: x.ratio, reverse=True)\n",
        "    valor_total = 0\n",
        "    for objeto in objetos:\n",
        "        if capacidad >= objeto.peso:\n",
        "            capacidad -= objeto.peso\n",
        "            valor_total += objeto.valor\n",
        "        else:\n",
        "            valor_total += objeto.ratio * capacidad\n",
        "            break\n",
        "    return valor_total\n",
        "\n",
        "# Ejemplo de uso\n",
        "objetos = [Objeto(60, 10), Objeto(100, 20), Objeto(120, 30)]\n",
        "capacidad = 50\n",
        "print(f\"Valor máximo que se puede obtener: {knapsack_fraccional(objetos, capacidad)}\")\n"
      ],
      "metadata": {
        "colab": {
          "base_uri": "https://localhost:8080/"
        },
        "id": "wIZRIYOLym4_",
        "outputId": "9c8db271-1150-478b-9c64-4078ab493381"
      },
      "execution_count": 2,
      "outputs": [
        {
          "output_type": "stream",
          "name": "stdout",
          "text": [
            "Valor máximo que se puede obtener: 240.0\n"
          ]
        }
      ]
    },
    {
      "cell_type": "markdown",
      "source": [
        "Explicación:\n",
        "Este algoritmo selecciona los objetos con el mayor valor por unidad de peso, añadiendo tantos de ellos como sea posible hasta que la mochila se llene. Si no es posible llevar un objeto completo, se toma una fracción del mismo.\n",
        "\n"
      ],
      "metadata": {
        "id": "sxHGEk49zFfn"
      }
    },
    {
      "cell_type": "markdown",
      "source": [
        "3. Problema de la actividad más compatible (Activity Selection Problem)\n",
        "\n",
        "El objetivo es seleccionar el mayor número de actividades que no se solapen, dado que cada actividad tiene un tiempo de inicio y de finalización."
      ],
      "metadata": {
        "id": "zOSGgYaPzXoW"
      }
    },
    {
      "cell_type": "code",
      "source": [
        "def seleccion_actividades(actividades):\n",
        "    # Ordenar actividades por tiempo de finalización\n",
        "    actividades.sort(key=lambda x: x[1])\n",
        "    actividades_seleccionadas = [actividades[0]]  # Seleccionar la primera actividad\n",
        "\n",
        "    # Seleccionar actividades compatibles\n",
        "    ultima_actividad = actividades[0]\n",
        "    for i in range(1, len(actividades)):\n",
        "        if actividades[i][0] >= ultima_actividad[1]:  # Si la actividad no se solapa\n",
        "            actividades_seleccionadas.append(actividades[i])\n",
        "            ultima_actividad = actividades[i]\n",
        "\n",
        "    return actividades_seleccionadas\n",
        "\n",
        "# Ejemplo de uso\n",
        "actividades = [(1, 3), (2, 5), (4, 7), (1, 8), (5, 9), (8, 10)]\n",
        "print(f\"Actividades seleccionadas: {seleccion_actividades(actividades)}\")\n"
      ],
      "metadata": {
        "colab": {
          "base_uri": "https://localhost:8080/"
        },
        "id": "yj9LBqRTyvs-",
        "outputId": "cf49ddb1-95b1-49e6-b0e7-74f0bbc4889b"
      },
      "execution_count": 3,
      "outputs": [
        {
          "output_type": "stream",
          "name": "stdout",
          "text": [
            "Actividades seleccionadas: [(1, 3), (4, 7), (8, 10)]\n"
          ]
        }
      ]
    },
    {
      "cell_type": "markdown",
      "source": [
        "Explicación:\n",
        "El algoritmo selecciona actividades de manera que minimice los solapamientos. Ordena las actividades por el tiempo de finalización y selecciona la actividad que termina primero, luego va seleccionando las siguientes actividades que comienzan después de que la última haya terminado."
      ],
      "metadata": {
        "id": "UBDS3zj0zdIt"
      }
    },
    {
      "cell_type": "code",
      "source": [],
      "metadata": {
        "id": "Gf6XbBilzaUl"
      },
      "execution_count": null,
      "outputs": []
    }
  ]
}