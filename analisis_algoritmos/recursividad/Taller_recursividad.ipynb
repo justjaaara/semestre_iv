{
  "nbformat": 4,
  "nbformat_minor": 0,
  "metadata": {
    "colab": {
      "provenance": []
    },
    "kernelspec": {
      "name": "python3",
      "display_name": "Python 3"
    },
    "language_info": {
      "name": "python"
    }
  },
  "cells": [
    {
      "cell_type": "markdown",
      "source": [
        "Introducción:\n",
        "La recursión es una técnica de programación donde una función se llama a sí misma para resolver subproblemas más pequeños de un problema más grande. Es una herramienta poderosa para resolver problemas que pueden ser divididos en subproblemas similares.\n"
      ],
      "metadata": {
        "id": "hh0ybgjDXUWf"
      }
    },
    {
      "cell_type": "markdown",
      "source": [
        "Conceptos Clave:\n",
        "\n",
        "Caso Base:\n",
        "En recursión, el caso base es la condición que detiene la recursión. Es el escenario más simple del problema que se puede resolver directamente sin necesidad de más llamadas recursivas. Sin un caso base, la recursión continuaría indefinidamente, resultando en un desbordamiento de pila.\n",
        "\n",
        "Permutaciones:\n",
        "Las permutaciones son todas las posibles maneras de ordenar un conjunto de elementos. Por ejemplo, las permutaciones de la cadena \"abc\" son \"abc\", \"acb\", \"bac\", \"bca\", \"cab\" y \"cba\". Las permutaciones son útiles en problemas de combinatoria y búsqueda exhaustiva."
      ],
      "metadata": {
        "id": "rWHcmaioXYao"
      }
    },
    {
      "cell_type": "markdown",
      "source": [
        "Ejercicio 1: Factorial de un Número\n",
        "\n",
        "Descripción:\n",
        "El factorial de un número n (denotado como n!) es el producto de todos los números enteros positivos desde 1 hasta n."
      ],
      "metadata": {
        "id": "GV9ycuzxYG2B"
      }
    },
    {
      "cell_type": "code",
      "execution_count": null,
      "metadata": {
        "id": "xUkdMYesXOE3"
      },
      "outputs": [],
      "source": [
        "def factorial(n):\n",
        "    if n == 0:\n",
        "        return 1\n",
        "    else:\n",
        "        return n * factorial(n - 1)\n"
      ]
    },
    {
      "cell_type": "markdown",
      "source": [
        "Preguntas:\n",
        "\n",
        "¿Cuál es el caso base de este algoritmo recursivo?\n",
        "\n",
        "Calcula el factorial de 5 utilizando el código proporcionado."
      ],
      "metadata": {
        "id": "hrzNRT2fYOif"
      }
    },
    {
      "cell_type": "markdown",
      "source": [
        "Ejercicio 2: Serie de Fibonacci\n",
        "\n",
        "Descripción:\n",
        "La serie de Fibonacci se define como: F(0) = 0, F(1) = 1 y F(n) = F(n-1) + F(n-2) para n > 1."
      ],
      "metadata": {
        "id": "1-k-XkAPYVpd"
      }
    },
    {
      "cell_type": "code",
      "source": [
        "def fibonacci(n):\n",
        "    if n <= 1:\n",
        "        return n\n",
        "    else:\n",
        "        return fibonacci(n-1) + fibonacci(n-2)\n"
      ],
      "metadata": {
        "id": "fA5cMzs7YNFE"
      },
      "execution_count": null,
      "outputs": []
    },
    {
      "cell_type": "markdown",
      "source": [
        "Preguntas:\n",
        "\n",
        "¿Cuáles son los casos base de este algoritmo recursivo?\n",
        "\n",
        "Calcula el décimo número de Fibonacci utilizando el código proporcionado.\n",
        "\n",
        "¿Cuál es la complejidad temporal de este algoritmo? ¿Hay alguna forma de optimizarlo?"
      ],
      "metadata": {
        "id": "qfnJUauyYeBI"
      }
    },
    {
      "cell_type": "markdown",
      "source": [
        "Ejercicio 3: Búsqueda Binaria\n",
        "\n",
        "Descripción:\n",
        "La búsqueda binaria es un algoritmo eficiente para encontrar un elemento en una lista ordenada, dividiendo repetidamente el espacio de búsqueda a la mitad."
      ],
      "metadata": {
        "id": "tbcLQ4AtYjUN"
      }
    },
    {
      "cell_type": "code",
      "source": [
        "def binary_search(arr, low, high, x):\n",
        "    if high >= low:\n",
        "        mid = (high + low) // 2\n",
        "        if arr[mid] == x:\n",
        "            return mid\n",
        "        elif arr[mid] > x:\n",
        "            return binary_search(arr, low, mid - 1, x)\n",
        "        else:\n",
        "            return binary_search(arr, mid + 1, high, x)\n",
        "    else:\n",
        "        return -1\n"
      ],
      "metadata": {
        "id": "0g_dhpCeYbYt"
      },
      "execution_count": null,
      "outputs": []
    },
    {
      "cell_type": "markdown",
      "source": [
        "Preguntas:\n",
        "\n",
        "¿Cuál es el caso base de este algoritmo recursivo?\n",
        "\n",
        "¿Cuál es la complejidad temporal de este algoritmo?\n",
        "\n",
        "Utiliza el código proporcionado para encontrar el número 7 en la lista [1, 2, 3, 4, 5, 6, 7, 8, 9]."
      ],
      "metadata": {
        "id": "FfQ5jn1DYoMu"
      }
    },
    {
      "cell_type": "markdown",
      "source": [
        "Ejercicio 4: Torres de Hanói\n",
        "\n",
        "Descripción:\n",
        "Las Torres de Hanói es un rompecabezas matemático que consiste en tres varillas y un número de discos de diferentes tamaños que pueden deslizarse sobre cualquier varilla."
      ],
      "metadata": {
        "id": "MRHBa4xkYvDS"
      }
    },
    {
      "cell_type": "code",
      "source": [
        "def hanoi(n, source, target, auxiliary):\n",
        "    if n == 1:\n",
        "        print(f\"Mueve el disco 1 de {source} a {target}\")\n",
        "        return\n",
        "    hanoi(n - 1, source, auxiliary, target)\n",
        "    print(f\"Mueve el disco {n} de {source} a {target}\")\n",
        "    hanoi(n - 1, auxiliary, target, source)\n"
      ],
      "metadata": {
        "id": "_3nTIC9xYlvL"
      },
      "execution_count": null,
      "outputs": []
    },
    {
      "cell_type": "markdown",
      "source": [
        "Preguntas:\n",
        "\n",
        "¿Cuál es el caso base de este algoritmo recursivo?\n",
        "\n",
        "¿Cuál es la complejidad temporal de este algoritmo?\n",
        "\n",
        "Describe los movimientos necesarios para resolver el problema con 3 discos."
      ],
      "metadata": {
        "id": "E-UlbrkpY01G"
      }
    },
    {
      "cell_type": "markdown",
      "source": [
        "Ejercicio 5: Suma de un Conjunto de Números\n",
        "\n",
        "Descripción:\n",
        "Suma los elementos de un conjunto utilizando recursión."
      ],
      "metadata": {
        "id": "ub42Y-A2Y472"
      }
    },
    {
      "cell_type": "code",
      "source": [
        "def sum_array(arr):\n",
        "    if len(arr) == 0:\n",
        "        return 0\n",
        "    else:\n",
        "        return arr[0] + sum_array(arr[1:])\n"
      ],
      "metadata": {
        "id": "AQE9dOYTYylO"
      },
      "execution_count": null,
      "outputs": []
    },
    {
      "cell_type": "markdown",
      "source": [
        "Preguntas:\n",
        "\n",
        "¿Cuál es el caso base de este algoritmo recursivo?\n",
        "\n",
        "Calcula la suma de la lista [1, 2, 3, 4, 5] utilizando el código proporcionado."
      ],
      "metadata": {
        "id": "ovGL8TpYY89K"
      }
    },
    {
      "cell_type": "markdown",
      "source": [
        "Ejercicio 6: Permutaciones de una Cadena\n",
        "\n",
        "Descripción:\n",
        "Generar todas las permutaciones posibles de una cadena de caracteres."
      ],
      "metadata": {
        "id": "Gs8Tt2M1Y_w2"
      }
    },
    {
      "cell_type": "code",
      "source": [
        "def permute(s, answer):\n",
        "    if len(s) == 0:\n",
        "        print(answer)\n",
        "        return\n",
        "    for i in range(len(s)):\n",
        "        ch = s[i]\n",
        "        left_substr = s[0:i]\n",
        "        right_substr = s[i + 1:]\n",
        "        rest = left_substr + right_substr\n",
        "        permute(rest, answer + ch)\n"
      ],
      "metadata": {
        "id": "u3NqywHMY7DY"
      },
      "execution_count": null,
      "outputs": []
    },
    {
      "cell_type": "markdown",
      "source": [
        "Preguntas:\n",
        "\n",
        "¿Cuál es el caso base de este algoritmo recursivo?\n",
        "\n",
        "Genera todas las permutaciones de la cadena \"abc\" utilizando el código proporcionado.\n",
        "\n",
        "¿Cuál es la complejidad temporal de este algoritmo?"
      ],
      "metadata": {
        "id": "awVt2rd0ZERa"
      }
    },
    {
      "cell_type": "markdown",
      "source": [
        "##Tail Recursion"
      ],
      "metadata": {
        "id": "OtHyVGDVUrUK"
      }
    },
    {
      "cell_type": "markdown",
      "source": [
        "Tail recursion (recursión de cola) es un tipo particular de recursión donde la llamada recursiva es la última operación que se realiza en la función antes de devolver el resultado. En otras palabras, no hay más operaciones pendientes después de la llamada recursiva. Esto es importante porque permite a los compiladores y los intérpretes optimizar la recursión de una manera que no requiere añadir un nuevo marco en la pila de llamadas para cada llamada recursiva, lo que puede reducir el overhead y evitar un desbordamiento de la pila.\n",
        "\n",
        "Versión Recursiva Normal"
      ],
      "metadata": {
        "id": "IwP_JwD-UyVI"
      }
    },
    {
      "cell_type": "code",
      "source": [
        "def factorial(n):\n",
        "    if n == 0:\n",
        "        return 1\n",
        "    else:\n",
        "        return n * factorial(n-1)\n"
      ],
      "metadata": {
        "id": "HBmfys0ZU2cB"
      },
      "execution_count": null,
      "outputs": []
    },
    {
      "cell_type": "markdown",
      "source": [
        "Versión Tail Recursion"
      ],
      "metadata": {
        "id": "PHTii4MCU--8"
      }
    },
    {
      "cell_type": "code",
      "source": [
        "def factorial_tail(n, accumulator=1):\n",
        "    if n == 0:\n",
        "        return accumulator\n",
        "    else:\n",
        "        return factorial_tail(n-1, accumulator * n)\n"
      ],
      "metadata": {
        "id": "OxPZVCZfU9DQ"
      },
      "execution_count": null,
      "outputs": []
    },
    {
      "cell_type": "markdown",
      "source": [
        "Definir versión tail recursion"
      ],
      "metadata": {
        "id": "XWfVrBwfVIuJ"
      }
    },
    {
      "cell_type": "code",
      "source": [
        "def sum_list(lst):\n",
        "    if not lst:\n",
        "        return 0\n",
        "    else:\n",
        "        return lst[0] + sum_list(lst[1:])\n"
      ],
      "metadata": {
        "id": "EZvdoor1VBnF"
      },
      "execution_count": null,
      "outputs": []
    },
    {
      "cell_type": "markdown",
      "source": [
        "Podemos invertir una cadena utilizando recursión.\n",
        "\n"
      ],
      "metadata": {
        "id": "NKFlRul3VXV0"
      }
    },
    {
      "cell_type": "code",
      "source": [
        "def reverse_string(s):\n",
        "    if s == \"\":\n",
        "        return s\n",
        "    else:\n",
        "        return reverse_string(s[1:]) + s[0]\n",
        "\n"
      ],
      "metadata": {
        "id": "Zq4sUzkAVLcY"
      },
      "execution_count": null,
      "outputs": []
    },
    {
      "cell_type": "markdown",
      "source": [
        "El cálculo de números de la serie de Fibonacci es un ejemplo clásico donde la recursión normal puede ser ineficiente."
      ],
      "metadata": {
        "id": "PvKtiQOnVn2-"
      }
    },
    {
      "cell_type": "code",
      "source": [
        "def fibonacci(n):\n",
        "    if n == 0:\n",
        "        return 0\n",
        "    elif n == 1:\n",
        "        return 1\n",
        "    else:\n",
        "        return fibonacci(n-1) + fibonacci(n-2)\n"
      ],
      "metadata": {
        "id": "kr311J8bVP5V"
      },
      "execution_count": null,
      "outputs": []
    },
    {
      "cell_type": "markdown",
      "source": [
        "Cálculo del Exponente (Potenciación)"
      ],
      "metadata": {
        "id": "0XwTqb-fWYHM"
      }
    },
    {
      "cell_type": "code",
      "source": [
        "def power(x, n):\n",
        "    if n == 0:\n",
        "        return 1\n",
        "    else:\n",
        "        return x * power(x, n - 1)\n"
      ],
      "metadata": {
        "id": "r6CAhE12VpdS"
      },
      "execution_count": null,
      "outputs": []
    },
    {
      "cell_type": "markdown",
      "source": [
        "##Programación dinámica\n",
        "\n",
        "La programación dinámica es una técnica de diseño de algoritmos que se utiliza para resolver problemas complejos dividiéndolos en subproblemas más simples y almacenando los resultados de estos subproblemas para evitar el cálculo repetido. Esta técnica es especialmente útil para problemas que tienen subestructuras repetitivas y se solapan en sus subproblemas.\n",
        "\n",
        "Conceptos Clave de la Programación Dinámica\n",
        "Subestructura Óptima: Un problema tiene subestructura óptima si una solución óptima del problema puede construirse a partir de soluciones óptimas de sus subproblemas.\n",
        "\n",
        "Solapamiento de Subproblemas: En lugar de resolver los mismos subproblemas múltiples veces, la programación dinámica almacena (memoriza) los resultados de estos subproblemas para que puedan reutilizarse cuando sea necesario.\n",
        "\n",
        "Tabla o Matriz de Soluciones: Se utiliza una estructura de datos (como una tabla o matriz) para almacenar los resultados de los subproblemas. Esto permite acceder rápidamente a los resultados ya calculados."
      ],
      "metadata": {
        "id": "lG9-GniOWnu5"
      }
    },
    {
      "cell_type": "code",
      "source": [
        "def fibonacci_memo(n, memo={}):\n",
        "    if n in memo:\n",
        "        return memo[n]\n",
        "    if n <= 1:\n",
        "        return n\n",
        "    memo[n] = fibonacci_memo(n-1, memo) + fibonacci_memo(n-2, memo)\n",
        "    return memo[n]\n"
      ],
      "metadata": {
        "id": "0-zdHFFMWZhb"
      },
      "execution_count": null,
      "outputs": []
    },
    {
      "cell_type": "markdown",
      "source": [
        "Ventajas y Desventajas\n",
        "Ventajas:\n",
        "\n",
        "Eficiencia: Almacenar los resultados de los subproblemas evita la recalculación innecesaria, lo que mejora la eficiencia.\n",
        "\n",
        "Claridad: Divide el problema en subproblemas más simples y manejables.\n",
        "\n",
        "Desventajas:\n",
        "\n",
        "Consumo de Memoria: Puede requerir una cantidad significativa de memoria para almacenar los resultados de los subproblemas, especialmente en problemas grandes.\n",
        "\n",
        "Complejidad de Implementación: Algunos problemas requieren una buena comprensión de cómo dividir el problema en subproblemas y cómo construir la solución final a partir de ellos."
      ],
      "metadata": {
        "id": "GXzL7iiMXKX3"
      }
    },
    {
      "cell_type": "markdown",
      "source": [
        "El problema del Número de Caminos en una Grilla es un problema clásico de combinatoria y programación dinámica. Vamos a desglosarlo en detalle para que puedas entender cómo se resuelve, tanto de forma recursiva como utilizando programación dinámica con memorización.\n",
        "\n",
        "Descripción del Problema\n",
        "\n",
        "Imagina que tienes una grilla (o cuadrícula) de tamaño\n",
        "𝑚\n",
        "×\n",
        "𝑛\n",
        ". Estás parado en la esquina superior izquierda de la grilla y quieres llegar a la esquina inferior derecha. Solo puedes moverte hacia la derecha o hacia abajo. El objetivo es encontrar el número total de caminos diferentes que te llevarán desde la esquina superior izquierda hasta la esquina inferior derecha."
      ],
      "metadata": {
        "id": "7D5sE6q8Yy3k"
      }
    },
    {
      "cell_type": "code",
      "source": [
        "def grid_paths(m, n):\n",
        "    if m == 1 or n == 1:\n",
        "        return 1\n",
        "    return grid_paths(m-1, n) + grid_paths(m, n-1)\n",
        "\n",
        "# Ejemplo de uso\n",
        "print(grid_paths(3, 3))  # Devuelve 6\n"
      ],
      "metadata": {
        "colab": {
          "base_uri": "https://localhost:8080/"
        },
        "id": "iHnA6_ZJWyes",
        "outputId": "3d50a46a-b979-40f2-e047-ea363d8f899f"
      },
      "execution_count": null,
      "outputs": [
        {
          "output_type": "stream",
          "name": "stdout",
          "text": [
            "6\n"
          ]
        }
      ]
    },
    {
      "cell_type": "code",
      "source": [],
      "metadata": {
        "id": "hQKq2jj7bDcA"
      },
      "execution_count": null,
      "outputs": []
    }
  ]
}