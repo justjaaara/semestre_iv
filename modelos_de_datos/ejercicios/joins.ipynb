{
 "cells": [
  {
   "cell_type": "markdown",
   "metadata": {},
   "source": [
    "Mostrar nombre de país, área del país y nombres de todas las ciudades, para los países \"Colombia\" y \"Argentina\"\n",
    "\n",
    "Consulta: \n",
    "SELECT country.Name, country.SurfaceArea, city.Name from country INNER JOIN city ON country.Code = city.CountryCode WHERE country.Name = 'Colombia' OR country.Name = 'Argentina';"
   ]
  },
  {
   "cell_type": "markdown",
   "metadata": {},
   "source": [
    "Mostrar nombre del país y nombre de todos los idiomas no oﬁciales que se hablan, para todos los países de la región de norte américa\n",
    "\n",
    "Consulta:\n",
    "\n",
    "SELECT country.Name, countrylanguage.IsOfficial from country INNER JOIN countrylanguage on country.Code = countrylanguage.CountryCode  WHERE country.Region = 'North America';"
   ]
  },
  {
   "cell_type": "markdown",
   "metadata": {},
   "source": [
    "Buscar, con funciones de agregación, la región que menos países tiene. Posteriormente, en otra consulta, mostrar nombre de país y nombre de las ciudades que hacen parte de esa región\n",
    "\n",
    "Consulta: ??\n",
    "\n"
   ]
  },
  {
   "cell_type": "markdown",
   "metadata": {},
   "source": [
    "Escribir una sentencia sql en la cual se indique el nombre de una ciudad y muestre el idioma oﬁcial que se habla en esa ciudad\n",
    "\n",
    "Consulta:\n",
    "SELECT city.Name, countrylanguage.Language FROM city INNER JOIN countrylanguage on city.CountryCode = countrylanguage.CountryCode WHERE countrylanguage.IsOfficial = 'T';"
   ]
  },
  {
   "cell_type": "markdown",
   "metadata": {},
   "source": [
    "Mostrar los nombres de los idiomas que se hablan tanto en Bélgica como en Italia, sin importar si son oﬁciales o no\n",
    "\n",
    "Consulta:\n",
    "\n",
    "SELECT countrylanguage.Language FROM countrylanguage INNER JOIN country on countrylanguage.CountryCode = country.Code WHERE country.Name = 'Belgium' AND countrylanguage.Language IN ( SELECT countrylanguage.Language FROM countrylanguage JOIN country ON countrylanguage.CountryCode = country.Code WHERE country.Name = 'Italy');\n"
   ]
  }
 ],
 "metadata": {
  "language_info": {
   "name": "python"
  }
 },
 "nbformat": 4,
 "nbformat_minor": 2
}
