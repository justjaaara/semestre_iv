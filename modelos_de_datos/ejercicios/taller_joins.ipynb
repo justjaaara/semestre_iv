{
 "cells": [
  {
   "cell_type": "markdown",
   "metadata": {},
   "source": [
    "En la sección \"DDL y DML\" en uvirtual, buscar en el apartado \"Bases de\n",
    "datos de ejemplo\" el script para crear la base de datos \"my_pizzeria\" y\n",
    "ejecutarlo. Si no recuerda como ejecutarlo, por favor revisar la\n",
    "documentación de las clases anteriores."
   ]
  },
  {
   "cell_type": "markdown",
   "metadata": {},
   "source": [
    "Mostrar nombre, apellidos y descripción del tipo_id de todos los clientes.\n",
    "\n",
    "CONSULTA: \n",
    "\n",
    "SELECT nombres, apellidos, tipo_id FROM clientes;"
   ]
  },
  {
   "cell_type": "markdown",
   "metadata": {},
   "source": [
    "Mostrar id de factura, valor de factura, fecha de facturación y descripción\n",
    "del tipo de pago de las facturas de 2019\n",
    "\n",
    "CONSULTA:\n",
    "\n",
    "SELECT id, valor, fecha, id_medio_pago FROM facturas_venta  WHERE fecha BETWEEN '2019-01-01 00:00:00' AND '2019-12-31 23:59';"
   ]
  },
  {
   "cell_type": "markdown",
   "metadata": {},
   "source": [
    "Mostrar nombre de producto, precio, id de factura, fecha de venta, id del cliente, tipo de producto y id de medio de pago de los productos que se hayan vendido en febrero de 2019\n",
    "\n",
    "CONSULTA:\n",
    "\n",
    "SELECT productos.nombre, productos.precio, facturas_venta.id, facturas_venta.fecha, clientes.id, productos.tipo, facturas_venta.id_medio_pago \n",
    "FROM productos \n",
    "INNER JOIN pedidos on pedidos.id_producto = productos.id INNER JOIN facturas_venta on pedidos.id_factura = facturas_venta.id \n",
    "INNER JOIN clientes on facturas_venta.id_cliente = clientes.id \n",
    "INNER JOIN medios_pago ON facturas_venta.id_medio_pago = medios_pago.id \n",
    "WHERE facturas_venta.fecha BETWEEN '2019-02-01' AND '2019-02-28';"
   ]
  },
  {
   "cell_type": "markdown",
   "metadata": {},
   "source": [
    "Mostrar nombre del proveedor, teléfono y nombre del insumo para los proveedores a los que se les puede comprar cualquier insumo que en su nombre tenga la palabra \"queso\" o \"harina\"\n",
    "\n",
    "CONSULTA:\n",
    "\n",
    "SELECT proveedores.nombre, proveedores.telefono, insumos.nombre from proveedores INNER JOIN insumos_proveedores ON proveedores.id = insumos_proveedores.id_proveedor INNER JOIN insumos ON insumos_proveedores.id_insumo = insumos.id WHERE LOWER(insumos.nombre) LIKE '%queso%' OR LOWER(insumos.nombre) LIKE '%harina%';"
   ]
  },
  {
   "cell_type": "markdown",
   "metadata": {},
   "source": [
    "Mostrar id y teléfono de los clientes que a su vez son proveedores\n",
    "\n",
    "CONSULTA:\n",
    "\n",
    "SELECT clientes.id, proveedores.telefono from clientes INNER JOIN proveedores ON clientes.id = proveedores.id;"
   ]
  },
  {
   "cell_type": "markdown",
   "metadata": {},
   "source": [
    "Mostrar cantidad de insumos que se necesitan para preparar cada producto (ej: para preparar una lasaña de carne necesito 3 insumos).\n",
    "\n",
    "CONSULTA:\n",
    "\n",
    "SELECT productos.nombre, COUNT(recetas.id_insumo) as cantidad_insumos FROM productos INNER\n",
    "JOIN recetas ON productos.id = recetas.id_producto INNER JOIN insumos ON recetas.id_insumo = insumos.id group by productos.nombre;"
   ]
  },
  {
   "cell_type": "markdown",
   "metadata": {},
   "source": [
    "Mostrar, subtotalizando por nombre de producto, cuántos productos se\n",
    "facturaron\n",
    "\n",
    "CONSULTA:\n",
    "SELECT productos.nombre, count(facturas_venta.id) as productos_facturados from productos INNER JOIN pedidos ON productos.id = pedidos.id_producto INNER JOIN facturas_venta ON  pedidos.id_factura = facturas_venta.id group by productos.nombre;\n",
    "\n"
   ]
  },
  {
   "cell_type": "markdown",
   "metadata": {},
   "source": [
    "Mostrar cuántos productos se le facturaron a cada cliente. Indicar también\n",
    "nombre y apellidos de los clientes\n",
    "\n",
    "CONSULTA:\n",
    "\n",
    "SELECT clientes.nombres, clientes.apellidos, COUNT(facturas_venta.id) as productos_facturados FROM clientes INNER JOIN facturas_venta ON clientes.id = facturas_venta.id_cliente GROUP BY clientes.nombres;"
   ]
  },
  {
   "cell_type": "markdown",
   "metadata": {},
   "source": [
    "Igual que el anterior, pero mostrando sólo los clientes a quienes se les hizo\n",
    "más de una factura\n",
    "\n",
    "CONSULTA:\n",
    "\n",
    "SELECT clientes.nombres, clientes.apellidos, COUNT(facturas_venta.id) as productos_facturados FROM clientes INNER JOIN facturas_venta ON clientes.id = facturas_venta.id_cliente GROUP BY clientes.nombres HAVING  productos_facturados > 1;\n",
    "\n",
    "NOTA: EL HAVING SE UTILIZA PARA FUNCIONES DE AGREGACIÓN Y EL WHERE PARA CONSULTAS"
   ]
  },
  {
   "cell_type": "markdown",
   "metadata": {},
   "source": [
    "Mostrar nombres, apellidos de los cliente y el total de dinero que se les ha\n",
    "facturado a cada unoo\n",
    "\n",
    "CONSULTA:\n",
    "\n",
    "SELECT clientes.nombres, clientes.apellidos, SUM(productos.precio) as total_facturado FROM\n",
    "clientes INNER JOIN facturas_venta ON clientes.id = facturas_venta.id_cliente INNER JOIN pedidos ON pedidos.id_factura = facturas_venta.id INNER JOIN productos  ON pedidos.id_producto = productos.id  GROUP BY clientes.nombres, clientes.apellidos;"
   ]
  },
  {
   "cell_type": "markdown",
   "metadata": {},
   "source": [
    "Mostrar id de los clientes a los cuales nunca se les ha realizado una factura\n",
    "NOTA: Apoyarse en el operador \"except\"\n",
    "\n",
    "CONSULTA:\n",
    "\n",
    "SELECT clientes.id from clientes EXCEPT SELECT facturas_venta.id_cliente FROM facturas_venta;\n",
    "\n",
    "EXCEPT:\n",
    "\n",
    "El operador EXCEPT se encarga de devolver los IDs que están en el primer conjunto (todos los clientes) pero no en el segundo (clientes con facturas). En otras palabras, devuelve los clientes que nunca han tenido una factura."
   ]
  }
 ],
 "metadata": {
  "language_info": {
   "name": "python"
  }
 },
 "nbformat": 4,
 "nbformat_minor": 2
}
