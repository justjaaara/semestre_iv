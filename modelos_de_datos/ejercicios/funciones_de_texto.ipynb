{
 "cells": [
  {
   "cell_type": "markdown",
   "metadata": {},
   "source": [
    "Mostrar nombre original, longitud del nombre, nombre en mayúsculas y\n",
    "nombre en minúsculas de las ciudades de Colombia\n",
    "\n",
    "CONSULTA:\n",
    "\n",
    "SELECT Name, LENGTH(Name), UPPER(Name), LOWER(Name) from city WHERE CountryCode = 'COL';"
   ]
  },
  {
   "cell_type": "markdown",
   "metadata": {},
   "source": [
    "Mostrar nombre original y cantidad de palabras de las ciudades de Colombia,\n",
    "asumiendo que las palabras están separadas por espacios en blanco\n",
    "\n",
    "CONSULTA:\n",
    "\n",
    "SELECT Name, LENGTH(Name) - LENGTH(REPLACE(Name, ' ', '')) + 1 AS cantidad_palabras FROM city WHERE CountryCode = 'Col';\n"
   ]
  }
 ],
 "metadata": {
  "language_info": {
   "name": "python"
  }
 },
 "nbformat": 4,
 "nbformat_minor": 2
}
